{
 "cells": [
  {
   "cell_type": "code",
   "execution_count": 7,
   "metadata": {},
   "outputs": [],
   "source": [
    "from sklearn.model_selection import train_test_split\n",
    "from sklearn.linear_model import LinearRegression\n",
    "from sklearn.metrics import mean_absolute_error\n",
    "from sklearn.feature_selection import SelectKBest, f_regression\n",
    "from sklearn.preprocessing import StandardScaler\n",
    "from sklearn.linear_model import Ridge, Lasso\n",
    "from sklearn.model_selection import cross_val_predict, GridSearchCV\n",
    "import statsmodels.api as sm\n",
    "from scipy import stats\n",
    "import pandas as pd\n",
    "import numpy as np\n",
    "import warnings\n",
    "from statsmodels.stats.outliers_influence import variance_inflation_factor\n",
    "warnings.filterwarnings(\"ignore\")"
   ]
  },
  {
   "cell_type": "markdown",
   "metadata": {},
   "source": [
    "# Model fitting"
   ]
  },
  {
   "cell_type": "markdown",
   "metadata": {},
   "source": [
    "Next step, I'll try fitting a few models to the data to see which one yields the most accurate predictions.In this notebook we'll try the below models:\n",
    "- Multi-linear Regression (With Feature Selection and Lasso and Ridge Corrections).\n",
    "- Random Forest Regression.\n",
    "- Custom Model using keras"
   ]
  },
  {
   "cell_type": "code",
   "execution_count": 23,
   "metadata": {},
   "outputs": [
    {
     "data": {
      "text/html": [
       "<div>\n",
       "<style scoped>\n",
       "    .dataframe tbody tr th:only-of-type {\n",
       "        vertical-align: middle;\n",
       "    }\n",
       "\n",
       "    .dataframe tbody tr th {\n",
       "        vertical-align: top;\n",
       "    }\n",
       "\n",
       "    .dataframe thead th {\n",
       "        text-align: right;\n",
       "    }\n",
       "</style>\n",
       "<table border=\"1\" class=\"dataframe\">\n",
       "  <thead>\n",
       "    <tr style=\"text-align: right;\">\n",
       "      <th></th>\n",
       "      <th>Norm</th>\n",
       "      <th>Feedr</th>\n",
       "      <th>PosN</th>\n",
       "      <th>Artery</th>\n",
       "      <th>RRAe</th>\n",
       "      <th>RRNn</th>\n",
       "      <th>RRAn</th>\n",
       "      <th>PosA</th>\n",
       "      <th>RRNe</th>\n",
       "      <th>MSSubClass</th>\n",
       "      <th>...</th>\n",
       "      <th>ExMaterial</th>\n",
       "      <th>NumBsmtFinType</th>\n",
       "      <th>Bsmt_ALQ_Area</th>\n",
       "      <th>Bsmt_BLQ_Area</th>\n",
       "      <th>Bsmt_GLQ_Area</th>\n",
       "      <th>Bsmt_LwQ_Area</th>\n",
       "      <th>Bsmt_Rec_Area</th>\n",
       "      <th>IsAvgGCond</th>\n",
       "      <th>IsAvgGQual</th>\n",
       "      <th>AvgRmSize</th>\n",
       "    </tr>\n",
       "  </thead>\n",
       "  <tbody>\n",
       "    <tr>\n",
       "      <th>0</th>\n",
       "      <td>1</td>\n",
       "      <td>0</td>\n",
       "      <td>0</td>\n",
       "      <td>0</td>\n",
       "      <td>0</td>\n",
       "      <td>0</td>\n",
       "      <td>0</td>\n",
       "      <td>0</td>\n",
       "      <td>0</td>\n",
       "      <td>60</td>\n",
       "      <td>...</td>\n",
       "      <td>VinylSd</td>\n",
       "      <td>2</td>\n",
       "      <td>0.0</td>\n",
       "      <td>0.0</td>\n",
       "      <td>706.0</td>\n",
       "      <td>0.0</td>\n",
       "      <td>0.0</td>\n",
       "      <td>True</td>\n",
       "      <td>True</td>\n",
       "      <td>213.750000</td>\n",
       "    </tr>\n",
       "    <tr>\n",
       "      <th>1</th>\n",
       "      <td>0</td>\n",
       "      <td>1</td>\n",
       "      <td>0</td>\n",
       "      <td>0</td>\n",
       "      <td>0</td>\n",
       "      <td>0</td>\n",
       "      <td>0</td>\n",
       "      <td>0</td>\n",
       "      <td>0</td>\n",
       "      <td>20</td>\n",
       "      <td>...</td>\n",
       "      <td>MetalSd</td>\n",
       "      <td>2</td>\n",
       "      <td>978.0</td>\n",
       "      <td>0.0</td>\n",
       "      <td>0.0</td>\n",
       "      <td>0.0</td>\n",
       "      <td>0.0</td>\n",
       "      <td>True</td>\n",
       "      <td>True</td>\n",
       "      <td>210.333333</td>\n",
       "    </tr>\n",
       "    <tr>\n",
       "      <th>2</th>\n",
       "      <td>1</td>\n",
       "      <td>0</td>\n",
       "      <td>0</td>\n",
       "      <td>0</td>\n",
       "      <td>0</td>\n",
       "      <td>0</td>\n",
       "      <td>0</td>\n",
       "      <td>0</td>\n",
       "      <td>0</td>\n",
       "      <td>60</td>\n",
       "      <td>...</td>\n",
       "      <td>VinylSd</td>\n",
       "      <td>2</td>\n",
       "      <td>0.0</td>\n",
       "      <td>0.0</td>\n",
       "      <td>486.0</td>\n",
       "      <td>0.0</td>\n",
       "      <td>0.0</td>\n",
       "      <td>True</td>\n",
       "      <td>True</td>\n",
       "      <td>297.666667</td>\n",
       "    </tr>\n",
       "    <tr>\n",
       "      <th>3</th>\n",
       "      <td>1</td>\n",
       "      <td>0</td>\n",
       "      <td>0</td>\n",
       "      <td>0</td>\n",
       "      <td>0</td>\n",
       "      <td>0</td>\n",
       "      <td>0</td>\n",
       "      <td>0</td>\n",
       "      <td>0</td>\n",
       "      <td>70</td>\n",
       "      <td>...</td>\n",
       "      <td>Wd Shng+Wd Sdng</td>\n",
       "      <td>2</td>\n",
       "      <td>216.0</td>\n",
       "      <td>0.0</td>\n",
       "      <td>0.0</td>\n",
       "      <td>0.0</td>\n",
       "      <td>0.0</td>\n",
       "      <td>True</td>\n",
       "      <td>True</td>\n",
       "      <td>245.285714</td>\n",
       "    </tr>\n",
       "    <tr>\n",
       "      <th>4</th>\n",
       "      <td>1</td>\n",
       "      <td>0</td>\n",
       "      <td>0</td>\n",
       "      <td>0</td>\n",
       "      <td>0</td>\n",
       "      <td>0</td>\n",
       "      <td>0</td>\n",
       "      <td>0</td>\n",
       "      <td>0</td>\n",
       "      <td>60</td>\n",
       "      <td>...</td>\n",
       "      <td>VinylSd</td>\n",
       "      <td>2</td>\n",
       "      <td>0.0</td>\n",
       "      <td>0.0</td>\n",
       "      <td>655.0</td>\n",
       "      <td>0.0</td>\n",
       "      <td>0.0</td>\n",
       "      <td>True</td>\n",
       "      <td>True</td>\n",
       "      <td>244.222222</td>\n",
       "    </tr>\n",
       "  </tbody>\n",
       "</table>\n",
       "<p>5 rows × 102 columns</p>\n",
       "</div>"
      ],
      "text/plain": [
       "   Norm  Feedr  PosN  Artery  RRAe  RRNn  RRAn  PosA  RRNe  MSSubClass  ...  \\\n",
       "0     1      0     0       0     0     0     0     0     0          60  ...   \n",
       "1     0      1     0       0     0     0     0     0     0          20  ...   \n",
       "2     1      0     0       0     0     0     0     0     0          60  ...   \n",
       "3     1      0     0       0     0     0     0     0     0          70  ...   \n",
       "4     1      0     0       0     0     0     0     0     0          60  ...   \n",
       "\n",
       "        ExMaterial  NumBsmtFinType  Bsmt_ALQ_Area Bsmt_BLQ_Area Bsmt_GLQ_Area  \\\n",
       "0          VinylSd               2            0.0           0.0         706.0   \n",
       "1          MetalSd               2          978.0           0.0           0.0   \n",
       "2          VinylSd               2            0.0           0.0         486.0   \n",
       "3  Wd Shng+Wd Sdng               2          216.0           0.0           0.0   \n",
       "4          VinylSd               2            0.0           0.0         655.0   \n",
       "\n",
       "   Bsmt_LwQ_Area Bsmt_Rec_Area IsAvgGCond IsAvgGQual   AvgRmSize  \n",
       "0            0.0           0.0       True       True  213.750000  \n",
       "1            0.0           0.0       True       True  210.333333  \n",
       "2            0.0           0.0       True       True  297.666667  \n",
       "3            0.0           0.0       True       True  245.285714  \n",
       "4            0.0           0.0       True       True  244.222222  \n",
       "\n",
       "[5 rows x 102 columns]"
      ]
     },
     "execution_count": 23,
     "metadata": {},
     "output_type": "execute_result"
    }
   ],
   "source": [
    "#Reading in the table\n",
    "df = pd.read_csv('./Interim Data/cleaned_train.csv').drop('index',axis=1)\n",
    "df.head()"
   ]
  },
  {
   "cell_type": "code",
   "execution_count": 24,
   "metadata": {},
   "outputs": [],
   "source": [
    "# X and y creation\n",
    "y = df['SalePrice']\n",
    "X = df.drop('SalePrice',axis=1)"
   ]
  },
  {
   "cell_type": "markdown",
   "metadata": {},
   "source": [
    "# Linear Regression"
   ]
  },
  {
   "cell_type": "markdown",
   "metadata": {},
   "source": [
    "### Original\n",
    "\n",
    "I am using mean absolute error as the metric here because 1) Mean absolute error weighs all errors similarly, which suits us here since we don't need to penalize large errors beyond their value. For example: an error of 1000 is twice as bad as an error of 500, and only twice as bad. 2) R^2 isn't as interpretable as MAE in terms of preictive power, and can make the model prone to overfitting.\n",
    "\n",
    "First, let's run a Linear Regression model on the data as it is after the EDA process in the other notebook. This can help provide us with a baseline to compare the other models against."
   ]
  },
  {
   "cell_type": "code",
   "execution_count": 25,
   "metadata": {},
   "outputs": [
    {
     "data": {
      "text/html": [
       "<div>\n",
       "<style scoped>\n",
       "    .dataframe tbody tr th:only-of-type {\n",
       "        vertical-align: middle;\n",
       "    }\n",
       "\n",
       "    .dataframe tbody tr th {\n",
       "        vertical-align: top;\n",
       "    }\n",
       "\n",
       "    .dataframe thead th {\n",
       "        text-align: right;\n",
       "    }\n",
       "</style>\n",
       "<table border=\"1\" class=\"dataframe\">\n",
       "  <thead>\n",
       "    <tr style=\"text-align: right;\">\n",
       "      <th></th>\n",
       "      <th>Norm</th>\n",
       "      <th>Feedr</th>\n",
       "      <th>PosN</th>\n",
       "      <th>Artery</th>\n",
       "      <th>RRAe</th>\n",
       "      <th>RRNn</th>\n",
       "      <th>RRAn</th>\n",
       "      <th>PosA</th>\n",
       "      <th>RRNe</th>\n",
       "      <th>MSSubClass</th>\n",
       "      <th>...</th>\n",
       "      <th>ExMaterial_Wd Sdng+VinylSd</th>\n",
       "      <th>ExMaterial_Wd Sdng+WdShing</th>\n",
       "      <th>ExMaterial_Wd Shng+BrkFace</th>\n",
       "      <th>ExMaterial_Wd Shng+CemntBd</th>\n",
       "      <th>ExMaterial_Wd Shng+HdBoard</th>\n",
       "      <th>ExMaterial_Wd Shng+MetalSd</th>\n",
       "      <th>ExMaterial_Wd Shng+Stucco</th>\n",
       "      <th>ExMaterial_Wd Shng+VinylSd</th>\n",
       "      <th>ExMaterial_Wd Shng+Wd Sdng</th>\n",
       "      <th>ExMaterial_Wd Shng+WdShing</th>\n",
       "    </tr>\n",
       "  </thead>\n",
       "  <tbody>\n",
       "    <tr>\n",
       "      <th>0</th>\n",
       "      <td>1.0</td>\n",
       "      <td>0.0</td>\n",
       "      <td>0.0</td>\n",
       "      <td>0.0</td>\n",
       "      <td>0.0</td>\n",
       "      <td>0.0</td>\n",
       "      <td>0.0</td>\n",
       "      <td>0.0</td>\n",
       "      <td>0.0</td>\n",
       "      <td>60.0</td>\n",
       "      <td>...</td>\n",
       "      <td>0.0</td>\n",
       "      <td>0.0</td>\n",
       "      <td>0.0</td>\n",
       "      <td>0.0</td>\n",
       "      <td>0.0</td>\n",
       "      <td>0.0</td>\n",
       "      <td>0.0</td>\n",
       "      <td>0.0</td>\n",
       "      <td>0.0</td>\n",
       "      <td>0.0</td>\n",
       "    </tr>\n",
       "    <tr>\n",
       "      <th>1</th>\n",
       "      <td>0.0</td>\n",
       "      <td>1.0</td>\n",
       "      <td>0.0</td>\n",
       "      <td>0.0</td>\n",
       "      <td>0.0</td>\n",
       "      <td>0.0</td>\n",
       "      <td>0.0</td>\n",
       "      <td>0.0</td>\n",
       "      <td>0.0</td>\n",
       "      <td>20.0</td>\n",
       "      <td>...</td>\n",
       "      <td>0.0</td>\n",
       "      <td>0.0</td>\n",
       "      <td>0.0</td>\n",
       "      <td>0.0</td>\n",
       "      <td>0.0</td>\n",
       "      <td>0.0</td>\n",
       "      <td>0.0</td>\n",
       "      <td>0.0</td>\n",
       "      <td>0.0</td>\n",
       "      <td>0.0</td>\n",
       "    </tr>\n",
       "    <tr>\n",
       "      <th>2</th>\n",
       "      <td>1.0</td>\n",
       "      <td>0.0</td>\n",
       "      <td>0.0</td>\n",
       "      <td>0.0</td>\n",
       "      <td>0.0</td>\n",
       "      <td>0.0</td>\n",
       "      <td>0.0</td>\n",
       "      <td>0.0</td>\n",
       "      <td>0.0</td>\n",
       "      <td>60.0</td>\n",
       "      <td>...</td>\n",
       "      <td>0.0</td>\n",
       "      <td>0.0</td>\n",
       "      <td>0.0</td>\n",
       "      <td>0.0</td>\n",
       "      <td>0.0</td>\n",
       "      <td>0.0</td>\n",
       "      <td>0.0</td>\n",
       "      <td>0.0</td>\n",
       "      <td>0.0</td>\n",
       "      <td>0.0</td>\n",
       "    </tr>\n",
       "    <tr>\n",
       "      <th>3</th>\n",
       "      <td>1.0</td>\n",
       "      <td>0.0</td>\n",
       "      <td>0.0</td>\n",
       "      <td>0.0</td>\n",
       "      <td>0.0</td>\n",
       "      <td>0.0</td>\n",
       "      <td>0.0</td>\n",
       "      <td>0.0</td>\n",
       "      <td>0.0</td>\n",
       "      <td>70.0</td>\n",
       "      <td>...</td>\n",
       "      <td>0.0</td>\n",
       "      <td>0.0</td>\n",
       "      <td>0.0</td>\n",
       "      <td>0.0</td>\n",
       "      <td>0.0</td>\n",
       "      <td>0.0</td>\n",
       "      <td>0.0</td>\n",
       "      <td>0.0</td>\n",
       "      <td>1.0</td>\n",
       "      <td>0.0</td>\n",
       "    </tr>\n",
       "    <tr>\n",
       "      <th>4</th>\n",
       "      <td>1.0</td>\n",
       "      <td>0.0</td>\n",
       "      <td>0.0</td>\n",
       "      <td>0.0</td>\n",
       "      <td>0.0</td>\n",
       "      <td>0.0</td>\n",
       "      <td>0.0</td>\n",
       "      <td>0.0</td>\n",
       "      <td>0.0</td>\n",
       "      <td>60.0</td>\n",
       "      <td>...</td>\n",
       "      <td>0.0</td>\n",
       "      <td>0.0</td>\n",
       "      <td>0.0</td>\n",
       "      <td>0.0</td>\n",
       "      <td>0.0</td>\n",
       "      <td>0.0</td>\n",
       "      <td>0.0</td>\n",
       "      <td>0.0</td>\n",
       "      <td>0.0</td>\n",
       "      <td>0.0</td>\n",
       "    </tr>\n",
       "  </tbody>\n",
       "</table>\n",
       "<p>5 rows × 281 columns</p>\n",
       "</div>"
      ],
      "text/plain": [
       "   Norm  Feedr  PosN  Artery  RRAe  RRNn  RRAn  PosA  RRNe  MSSubClass  ...  \\\n",
       "0   1.0    0.0   0.0     0.0   0.0   0.0   0.0   0.0   0.0        60.0  ...   \n",
       "1   0.0    1.0   0.0     0.0   0.0   0.0   0.0   0.0   0.0        20.0  ...   \n",
       "2   1.0    0.0   0.0     0.0   0.0   0.0   0.0   0.0   0.0        60.0  ...   \n",
       "3   1.0    0.0   0.0     0.0   0.0   0.0   0.0   0.0   0.0        70.0  ...   \n",
       "4   1.0    0.0   0.0     0.0   0.0   0.0   0.0   0.0   0.0        60.0  ...   \n",
       "\n",
       "   ExMaterial_Wd Sdng+VinylSd  ExMaterial_Wd Sdng+WdShing  \\\n",
       "0                         0.0                         0.0   \n",
       "1                         0.0                         0.0   \n",
       "2                         0.0                         0.0   \n",
       "3                         0.0                         0.0   \n",
       "4                         0.0                         0.0   \n",
       "\n",
       "   ExMaterial_Wd Shng+BrkFace  ExMaterial_Wd Shng+CemntBd  \\\n",
       "0                         0.0                         0.0   \n",
       "1                         0.0                         0.0   \n",
       "2                         0.0                         0.0   \n",
       "3                         0.0                         0.0   \n",
       "4                         0.0                         0.0   \n",
       "\n",
       "   ExMaterial_Wd Shng+HdBoard  ExMaterial_Wd Shng+MetalSd  \\\n",
       "0                         0.0                         0.0   \n",
       "1                         0.0                         0.0   \n",
       "2                         0.0                         0.0   \n",
       "3                         0.0                         0.0   \n",
       "4                         0.0                         0.0   \n",
       "\n",
       "   ExMaterial_Wd Shng+Stucco  ExMaterial_Wd Shng+VinylSd  \\\n",
       "0                        0.0                         0.0   \n",
       "1                        0.0                         0.0   \n",
       "2                        0.0                         0.0   \n",
       "3                        0.0                         0.0   \n",
       "4                        0.0                         0.0   \n",
       "\n",
       "   ExMaterial_Wd Shng+Wd Sdng  ExMaterial_Wd Shng+WdShing  \n",
       "0                         0.0                         0.0  \n",
       "1                         0.0                         0.0  \n",
       "2                         0.0                         0.0  \n",
       "3                         1.0                         0.0  \n",
       "4                         0.0                         0.0  \n",
       "\n",
       "[5 rows x 281 columns]"
      ]
     },
     "execution_count": 25,
     "metadata": {},
     "output_type": "execute_result"
    }
   ],
   "source": [
    "X = pd.get_dummies(X).astype('float64')\n",
    "X.head()"
   ]
  },
  {
   "cell_type": "code",
   "execution_count": 26,
   "metadata": {},
   "outputs": [
    {
     "data": {
      "text/plain": [
       "281"
      ]
     },
     "execution_count": 26,
     "metadata": {},
     "output_type": "execute_result"
    }
   ],
   "source": [
    "len(X.columns)"
   ]
  },
  {
   "cell_type": "code",
   "execution_count": 27,
   "metadata": {},
   "outputs": [
    {
     "name": "stdout",
     "output_type": "stream",
     "text": [
      "                            OLS Regression Results                            \n",
      "==============================================================================\n",
      "Dep. Variable:              SalePrice   R-squared:                       0.922\n",
      "Model:                            OLS   Adj. R-squared:                  0.906\n",
      "Method:                 Least Squares   F-statistic:                     57.28\n",
      "Date:                Thu, 29 Jun 2023   Prob (F-statistic):               0.00\n",
      "Time:                        03:16:44   Log-Likelihood:                -16680.\n",
      "No. Observations:                1460   AIC:                         3.386e+04\n",
      "Df Residuals:                    1209   BIC:                         3.519e+04\n",
      "Df Model:                         250                                         \n",
      "Covariance Type:            nonrobust                                         \n",
      "==============================================================================================\n",
      "                                 coef    std err          t      P>|t|      [0.025      0.975]\n",
      "----------------------------------------------------------------------------------------------\n",
      "Norm                       -2.091e+04   9222.291     -2.268      0.024    -3.9e+04   -2820.615\n",
      "Feedr                      -2.598e+04   8917.392     -2.913      0.004   -4.35e+04   -8484.871\n",
      "PosN                       -5.873e+04   9491.729     -6.188      0.000   -7.74e+04   -4.01e+04\n",
      "Artery                     -2.927e+04   9165.072     -3.194      0.001   -4.73e+04   -1.13e+04\n",
      "RRAe                       -4.424e+04   1.21e+04     -3.658      0.000    -6.8e+04   -2.05e+04\n",
      "RRNn                       -1.165e+04   1.26e+04     -0.927      0.354   -3.63e+04     1.3e+04\n",
      "RRAn                       -1.828e+04   9521.163     -1.920      0.055    -3.7e+04     397.232\n",
      "PosA                       -2.254e+04   1.25e+04     -1.800      0.072   -4.71e+04    2033.055\n",
      "RRNe                       -4.142e+04   2.03e+04     -2.036      0.042   -8.13e+04   -1499.290\n",
      "MSSubClass                  -123.5626     87.501     -1.412      0.158    -295.234      48.109\n",
      "LotFrontage                   -5.4546     24.283     -0.225      0.822     -53.096      42.186\n",
      "LotArea                        0.4613      0.100      4.616      0.000       0.265       0.657\n",
      "LotShape                     111.4862   1479.566      0.075      0.940   -2791.316    3014.288\n",
      "LandSlope                   1415.9862   3742.273      0.378      0.705   -5926.084    8758.056\n",
      "OverallQual                 7348.6156   1099.584      6.683      0.000    5191.312    9505.919\n",
      "OverallCond                 5002.2672    942.805      5.306      0.000    3152.551    6851.983\n",
      "YearBuilt                    116.6918     56.253      2.074      0.038       6.327     227.057\n",
      "YearRemodAdd                   9.0229     60.008      0.150      0.881    -108.708     126.753\n",
      "MasVnrArea                    24.2622      6.217      3.903      0.000      12.066      36.459\n",
      "ExterQual                   3674.4506   2256.427      1.628      0.104    -752.496    8101.397\n",
      "ExterCond                  -3381.8280   2258.433     -1.497      0.135   -7812.710    1049.054\n",
      "BsmtQual                    4544.5607   1956.651      2.323      0.020     705.753    8383.368\n",
      "BsmtCond                    -849.8370   2724.260     -0.312      0.755   -6194.640    4494.966\n",
      "BsmtExposure                4098.0478    921.638      4.446      0.000    2289.861    5906.235\n",
      "BsmtFinSF1                   -33.3211     30.795     -1.082      0.279     -93.738      27.096\n",
      "BsmtFinSF2                   -32.4005     30.958     -1.047      0.295     -93.137      28.336\n",
      "BsmtUnfSF                     43.3286     31.476      1.377      0.169     -18.424     105.081\n",
      "TotalBsmtSF                  -22.3931     29.826     -0.751      0.453     -80.909      36.123\n",
      "HeatingQC                    657.4231   1031.198      0.638      0.524   -1365.713    2680.560\n",
      "CentralAir                  1038.6145   4194.990      0.248      0.804   -7191.654    9268.883\n",
      "1stFlrSF                      10.5424     10.621      0.993      0.321     -10.296      31.380\n",
      "2ndFlrSF                      25.5676     10.618      2.408      0.016       4.736      46.400\n",
      "LowQualFinSF                  18.7785     28.444      0.660      0.509     -37.027      74.584\n",
      "GrLivArea                     54.8884     12.839      4.275      0.000      29.700      80.077\n",
      "BsmtFullBath                1798.3295   2143.104      0.839      0.402   -2406.286    6002.945\n",
      "BsmtHalfBath                 539.2042   3247.713      0.166      0.868   -5832.574    6910.983\n",
      "FullBath                    5397.6732   2376.717      2.271      0.023     734.726    1.01e+04\n",
      "HalfBath                    4739.6406   2243.398      2.113      0.035     338.255    9141.026\n",
      "BedroomAbvGr               -3449.3500   1474.604     -2.339      0.019   -6342.417    -556.283\n",
      "KitchenAbvGr               -1.508e+04   6323.991     -2.384      0.017   -2.75e+04   -2670.555\n",
      "KitchenQual                 6327.3172   1763.856      3.587      0.000    2866.759    9787.876\n",
      "TotRmsAbvGrd               -2222.9765   2912.126     -0.763      0.445   -7936.359    3490.406\n",
      "Functional                 -6219.3681   1251.349     -4.970      0.000   -8674.426   -3764.311\n",
      "Fireplaces                  6424.6781   2379.511      2.700      0.007    1756.249    1.11e+04\n",
      "FireplaceQu                -1803.8094    860.462     -2.096      0.036   -3491.973    -115.646\n",
      "GarageYrBlt                    0.3239     45.631      0.007      0.994     -89.201      89.849\n",
      "GarageCars                  5386.6221   2427.757      2.219      0.027     623.538    1.01e+04\n",
      "GarageArea                    13.1532      8.417      1.563      0.118      -3.361      29.668\n",
      "GarageQual                  1.288e+04   4392.339      2.933      0.003    4266.563    2.15e+04\n",
      "GarageCond                 -4957.0102   4605.398     -1.076      0.282    -1.4e+04    4078.449\n",
      "PavedDrive                  2333.9777   3673.689      0.635      0.525   -4873.536    9541.491\n",
      "WoodDeckSF                    15.8539      6.302      2.516      0.012       3.490      28.218\n",
      "OpenPorchSF                   12.1299     12.237      0.991      0.322     -11.878      36.138\n",
      "EnclosedPorch                 -1.2465     13.490     -0.092      0.926     -27.713      25.220\n",
      "3SsnPorch                     58.7235     24.282      2.418      0.016      11.084     106.363\n",
      "ScreenPorch                   42.7443     13.275      3.220      0.001      16.699      68.790\n",
      "PoolArea                      12.7659     57.687      0.221      0.825    -100.412     125.944\n",
      "PoolQC                      1.165e+04   8854.283      1.316      0.188   -5718.840     2.9e+04\n",
      "MiscVal                        3.4711      4.846      0.716      0.474      -6.037      12.979\n",
      "MoSold                      -624.9697    262.250     -2.383      0.017   -1139.486    -110.454\n",
      "YrSold                       106.6769    547.109      0.195      0.845    -966.712    1180.066\n",
      "HasGarage                  -5.807e+04   1.02e+05     -0.569      0.569   -2.58e+05    1.42e+05\n",
      "DiffHouseGarageYrs          -116.3678     53.239     -2.186      0.029    -220.819     -11.917\n",
      "HasLowGarageDiff           -4849.9807   3308.227     -1.466      0.143   -1.13e+04    1640.523\n",
      "Has2ndFlr                  -4096.4592   7918.989     -0.517      0.605   -1.96e+04    1.14e+04\n",
      "HasLowQualSF               -1.339e+04    1.2e+04     -1.118      0.264   -3.69e+04    1.01e+04\n",
      "HasVnrArea                  1.588e+04   1.05e+04      1.514      0.130   -4703.085    3.65e+04\n",
      "NumBsmtFinType             -3.654e+04    2.6e+04     -1.405      0.160   -8.75e+04    1.45e+04\n",
      "Bsmt_ALQ_Area                 77.0521     62.148      1.240      0.215     -44.878     198.982\n",
      "Bsmt_BLQ_Area                 78.8943     62.292      1.267      0.206     -43.317     201.106\n",
      "Bsmt_GLQ_Area                107.7670     62.185      1.733      0.083     -14.236     229.770\n",
      "Bsmt_LwQ_Area                 87.5453     62.786      1.394      0.163     -35.635     210.726\n",
      "Bsmt_Rec_Area                 74.7736     62.322      1.200      0.230     -47.497     197.045\n",
      "IsAvgGCond                  4202.8130   5263.296      0.799      0.425   -6123.395    1.45e+04\n",
      "IsAvgGQual                 -6313.4862   4515.422     -1.398      0.162   -1.52e+04    2545.446\n",
      "AvgRmSize                   -148.6815     76.548     -1.942      0.052    -298.864       1.501\n",
      "MSZoning_C (all)           -3.726e+04   3.71e+04     -1.004      0.316    -1.1e+05    3.56e+04\n",
      "MSZoning_FV                -4009.5121   3.66e+04     -0.110      0.913   -7.58e+04    6.78e+04\n",
      "MSZoning_RH                -1.486e+04   3.58e+04     -0.414      0.679   -8.52e+04    5.55e+04\n",
      "MSZoning_RL                -1.288e+04   3.57e+04     -0.361      0.718   -8.29e+04    5.71e+04\n",
      "MSZoning_RM                -1.644e+04   3.59e+04     -0.458      0.647   -8.68e+04    5.39e+04\n",
      "Street_Grvl                -5.244e+04   8.97e+04     -0.584      0.559   -2.29e+05    1.24e+05\n",
      "Street_Pave                -3.301e+04   8.93e+04     -0.370      0.712   -2.08e+05    1.42e+05\n",
      "Alley_Grvl                 -2.836e+04   5.96e+04     -0.476      0.634   -1.45e+05    8.85e+04\n",
      "Alley_None                 -2.786e+04   5.96e+04     -0.467      0.640   -1.45e+05    8.91e+04\n",
      "Alley_Pave                 -2.923e+04   5.97e+04     -0.490      0.624   -1.46e+05    8.78e+04\n",
      "LandContour_Bnk            -2.556e+04   4.48e+04     -0.571      0.568   -1.13e+05    6.23e+04\n",
      "LandContour_HLS            -1.424e+04   4.49e+04     -0.317      0.751   -1.02e+05    7.38e+04\n",
      "LandContour_Low            -2.744e+04   4.47e+04     -0.613      0.540   -1.15e+05    6.03e+04\n",
      "LandContour_Lvl            -1.822e+04   4.48e+04     -0.407      0.684   -1.06e+05    6.96e+04\n",
      "Utilities_AllPub           -2.058e+04   9.05e+04     -0.227      0.820   -1.98e+05    1.57e+05\n",
      "Utilities_NoSeWa           -6.487e+04   9.03e+04     -0.718      0.473   -2.42e+05    1.12e+05\n",
      "LotConfig_Corner           -1.324e+04    3.6e+04     -0.368      0.713   -8.38e+04    5.73e+04\n",
      "LotConfig_CulDSac          -4445.0924   3.62e+04     -0.123      0.902   -7.54e+04    6.65e+04\n",
      "LotConfig_FR2              -2.049e+04   3.62e+04     -0.567      0.571   -9.14e+04    5.04e+04\n",
      "LotConfig_FR3              -3.321e+04   3.66e+04     -0.907      0.365   -1.05e+05    3.86e+04\n",
      "LotConfig_Inside           -1.407e+04   3.59e+04     -0.392      0.695   -8.46e+04    5.64e+04\n",
      "Neighborhood_Blmngtn       -2401.6316   1.06e+04     -0.227      0.820   -2.32e+04    1.83e+04\n",
      "Neighborhood_Blueste       -2597.8489   1.98e+04     -0.131      0.896   -4.15e+04    3.63e+04\n",
      "Neighborhood_BrDale         2189.0168   1.11e+04      0.197      0.844   -1.96e+04    2.39e+04\n",
      "Neighborhood_BrkSide        1737.6992   8406.825      0.207      0.836   -1.48e+04    1.82e+04\n",
      "Neighborhood_ClearCr       -1.818e+04   9571.212     -1.900      0.058    -3.7e+04     597.085\n",
      "Neighborhood_CollgCr       -1.263e+04   7913.015     -1.596      0.111   -2.82e+04    2891.741\n",
      "Neighborhood_Crawfor        1.378e+04   8263.171      1.667      0.096   -2434.712       3e+04\n",
      "Neighborhood_Edwards       -1.999e+04   7842.130     -2.549      0.011   -3.54e+04   -4602.424\n",
      "Neighborhood_Gilbert       -1.329e+04   8283.927     -1.604      0.109   -2.95e+04    2964.988\n",
      "Neighborhood_IDOTRR        -1.013e+04   9481.779     -1.069      0.285   -2.87e+04    8470.829\n",
      "Neighborhood_MeadowV       -4142.7830   1.13e+04     -0.367      0.714   -2.63e+04     1.8e+04\n",
      "Neighborhood_Mitchel       -1.554e+04   8266.913     -1.880      0.060   -3.18e+04     680.547\n",
      "Neighborhood_NAmes         -1.481e+04   7624.210     -1.943      0.052   -2.98e+04     145.032\n",
      "Neighborhood_NPkVill        2965.5711   1.53e+04      0.194      0.846    -2.7e+04    3.29e+04\n",
      "Neighborhood_NWAmes        -1.615e+04   8048.444     -2.007      0.045   -3.19e+04    -363.763\n",
      "Neighborhood_NoRidge        1.525e+04   9072.591      1.681      0.093   -2544.933    3.31e+04\n",
      "Neighborhood_NridgHt        3.039e+04   8591.821      3.537      0.000    1.35e+04    4.72e+04\n",
      "Neighborhood_OldTown       -1.298e+04   8535.418     -1.520      0.129   -2.97e+04    3770.201\n",
      "Neighborhood_SWISU         -1.382e+04   9852.844     -1.403      0.161   -3.32e+04    5509.706\n",
      "Neighborhood_Sawyer        -7218.7140   7955.521     -0.907      0.364   -2.28e+04    8389.446\n",
      "Neighborhood_SawyerW       -1.059e+04   8410.213     -1.259      0.208   -2.71e+04    5910.627\n",
      "Neighborhood_Somerst       -3329.8885   9560.831     -0.348      0.728   -2.21e+04    1.54e+04\n",
      "Neighborhood_StoneBr        3.692e+04   9547.507      3.867      0.000    1.82e+04    5.57e+04\n",
      "Neighborhood_Timber        -9642.2925   8870.187     -1.087      0.277    -2.7e+04    7760.377\n",
      "Neighborhood_Veenker       -1242.4014   1.05e+04     -0.118      0.906   -2.19e+04    1.94e+04\n",
      "BldgType_1Fam              -1.423e+04   3.63e+04     -0.392      0.695   -8.55e+04     5.7e+04\n",
      "BldgType_2fmCon            -3639.8785   3.64e+04     -0.100      0.920   -7.51e+04    6.79e+04\n",
      "BldgType_Duplex            -1.993e+04   3.62e+04     -0.551      0.582   -9.09e+04     5.1e+04\n",
      "BldgType_Twnhs             -2.596e+04   3.61e+04     -0.718      0.473   -9.69e+04    4.49e+04\n",
      "BldgType_TwnhsE            -2.169e+04   3.61e+04     -0.601      0.548   -9.25e+04    4.91e+04\n",
      "HouseStyle_1.5Fin          -1.176e+04   2.27e+04     -0.518      0.604   -5.62e+04    3.27e+04\n",
      "HouseStyle_1.5Unf          -7668.4302   2.36e+04     -0.325      0.745    -5.4e+04    3.86e+04\n",
      "HouseStyle_1Story          -6362.8324   2.29e+04     -0.278      0.781   -5.13e+04    3.86e+04\n",
      "HouseStyle_2.5Fin          -2.348e+04    2.6e+04     -0.902      0.367   -7.46e+04    2.76e+04\n",
      "HouseStyle_2.5Unf          -1.037e+04   2.37e+04     -0.437      0.662   -5.69e+04    3.62e+04\n",
      "HouseStyle_2Story          -1.257e+04   2.27e+04     -0.555      0.579    -5.7e+04    3.19e+04\n",
      "HouseStyle_SFoyer          -8497.9807   2.34e+04     -0.364      0.716   -5.44e+04    3.74e+04\n",
      "HouseStyle_SLvl            -4745.2147   2.31e+04     -0.206      0.837      -5e+04    4.05e+04\n",
      "RoofStyle_Flat             -2.342e+04   3.41e+04     -0.688      0.492   -9.02e+04    4.34e+04\n",
      "RoofStyle_Gable            -2.833e+04   3.07e+04     -0.924      0.356   -8.85e+04    3.18e+04\n",
      "RoofStyle_Gambrel          -2.969e+04   3.14e+04     -0.947      0.344   -9.12e+04    3.18e+04\n",
      "RoofStyle_Hip              -2.603e+04   3.07e+04     -0.848      0.397   -8.63e+04    3.42e+04\n",
      "RoofStyle_Mansard          -7833.2875   3.25e+04     -0.241      0.810   -7.16e+04    5.59e+04\n",
      "RoofStyle_Shed              2.984e+04   3.87e+04      0.771      0.441   -4.61e+04    1.06e+05\n",
      "RoofMatl_ClyTile           -6.388e+05   4.24e+04    -15.051      0.000   -7.22e+05   -5.56e+05\n",
      "RoofMatl_CompShg            6.635e+04   2.48e+04      2.674      0.008    1.77e+04    1.15e+05\n",
      "RoofMatl_Membran            1.005e+05   3.53e+04      2.844      0.005    3.12e+04     1.7e+05\n",
      "RoofMatl_Metal              8.819e+04    3.5e+04      2.520      0.012    1.95e+04    1.57e+05\n",
      "RoofMatl_Roll               4.576e+04   3.38e+04      1.354      0.176   -2.05e+04    1.12e+05\n",
      "RoofMatl_Tar&Grv            5.689e+04   2.77e+04      2.052      0.040    2495.401    1.11e+05\n",
      "RoofMatl_WdShake            4.933e+04   2.91e+04      1.698      0.090   -7678.367    1.06e+05\n",
      "RoofMatl_WdShngl            1.464e+05   2.61e+04      5.606      0.000    9.51e+04    1.98e+05\n",
      "MasVnrType_BrkCmn          -2.408e+04   4.49e+04     -0.536      0.592   -1.12e+05    6.41e+04\n",
      "MasVnrType_BrkFace         -1.904e+04   4.47e+04     -0.426      0.670   -1.07e+05    6.86e+04\n",
      "MasVnrType_None             -2.97e+04   4.53e+04     -0.656      0.512   -1.19e+05    5.91e+04\n",
      "MasVnrType_Stone           -1.263e+04   4.51e+04     -0.280      0.779   -1.01e+05    7.59e+04\n",
      "Foundation_BrkTil          -1.378e+04   2.99e+04     -0.461      0.645   -7.24e+04    4.48e+04\n",
      "Foundation_CBlock          -9542.7095      3e+04     -0.318      0.750   -6.83e+04    4.93e+04\n",
      "Foundation_PConc           -1.082e+04      3e+04     -0.360      0.719   -6.97e+04    4.81e+04\n",
      "Foundation_Slab            -7037.3876    3.1e+04     -0.227      0.820   -6.78e+04    5.37e+04\n",
      "Foundation_Stone           -7811.3765   3.17e+04     -0.246      0.805      -7e+04    5.44e+04\n",
      "Foundation_Wood            -3.647e+04    3.3e+04     -1.105      0.270   -1.01e+05    2.83e+04\n",
      "BsmtFinType1_ALQ            -707.6169   2.67e+04     -0.026      0.979   -5.31e+04    5.17e+04\n",
      "BsmtFinType1_BLQ           -1231.4346   2.67e+04     -0.046      0.963   -5.37e+04    5.12e+04\n",
      "BsmtFinType1_GLQ           -1.463e+04    2.7e+04     -0.542      0.588   -6.75e+04    3.83e+04\n",
      "BsmtFinType1_LwQ           -1.049e+04   2.72e+04     -0.386      0.700   -6.38e+04    4.28e+04\n",
      "BsmtFinType1_None          -1.198e+04   2.71e+04     -0.441      0.659   -6.52e+04    4.13e+04\n",
      "BsmtFinType1_Rec           -2851.7488    2.7e+04     -0.106      0.916   -5.58e+04    5.01e+04\n",
      "BsmtFinType1_Unf           -4.357e+04   3.14e+04     -1.387      0.166   -1.05e+05    1.81e+04\n",
      "BsmtFinType2_ALQ            2803.9948   2.65e+04      0.106      0.916   -4.93e+04    5.49e+04\n",
      "BsmtFinType2_BLQ           -1.456e+04   2.61e+04     -0.558      0.577   -6.58e+04    3.66e+04\n",
      "BsmtFinType2_GLQ           -2.155e+04    2.7e+04     -0.798      0.425   -7.45e+04    3.14e+04\n",
      "BsmtFinType2_LwQ           -1.781e+04   2.62e+04     -0.679      0.497   -6.92e+04    3.36e+04\n",
      "BsmtFinType2_None          -1.198e+04   2.71e+04     -0.441      0.659   -6.52e+04    4.13e+04\n",
      "BsmtFinType2_Rec           -1.245e+04   2.62e+04     -0.476      0.634   -6.38e+04    3.89e+04\n",
      "BsmtFinType2_Unf           -9915.2649    2.6e+04     -0.381      0.703   -6.09e+04    4.11e+04\n",
      "Heating_Floor              -3.108e+04   3.77e+04     -0.823      0.410   -1.05e+05     4.3e+04\n",
      "Heating_GasA               -6159.4080   3.04e+04     -0.202      0.840   -6.59e+04    5.35e+04\n",
      "Heating_GasW               -9490.8327    3.1e+04     -0.306      0.759   -7.03e+04    5.13e+04\n",
      "Heating_Grav               -5521.3632   3.18e+04     -0.173      0.862    -6.8e+04     5.7e+04\n",
      "Heating_OthW               -4.095e+04   3.46e+04     -1.183      0.237   -1.09e+05     2.7e+04\n",
      "Heating_Wall                7749.7691    3.3e+04      0.235      0.815   -5.71e+04    7.26e+04\n",
      "Electrical_FuseA           -2.052e+04   3.64e+04     -0.564      0.573   -9.18e+04    5.08e+04\n",
      "Electrical_FuseF            -2.55e+04   3.65e+04     -0.698      0.485   -9.72e+04    4.62e+04\n",
      "Electrical_FuseP           -2.308e+04    3.9e+04     -0.592      0.554   -9.96e+04    5.34e+04\n",
      "Electrical_Mix              7183.9400   4.22e+04      0.170      0.865   -7.56e+04       9e+04\n",
      "Electrical_SBrkr           -2.354e+04   3.65e+04     -0.645      0.519   -9.51e+04     4.8e+04\n",
      "GarageType_2Types          -2.597e+04   1.97e+04     -1.319      0.188   -6.46e+04    1.27e+04\n",
      "GarageType_Attchd          -9614.2765   1.73e+04     -0.554      0.579   -4.36e+04    2.44e+04\n",
      "GarageType_Basment          2024.7096   1.85e+04      0.110      0.913   -3.42e+04    3.82e+04\n",
      "GarageType_BuiltIn         -9884.2816   1.78e+04     -0.555      0.579   -4.48e+04     2.5e+04\n",
      "GarageType_CarPort         -6464.6662   1.89e+04     -0.342      0.732   -4.35e+04    3.06e+04\n",
      "GarageType_Detchd          -8161.0036   1.74e+04     -0.469      0.639   -4.23e+04     2.6e+04\n",
      "GarageType_None            -2.739e+04   7.67e+04     -0.357      0.721   -1.78e+05    1.23e+05\n",
      "GarageFinish_Fin           -1.717e+04   3.41e+04     -0.503      0.615   -8.41e+04    4.97e+04\n",
      "GarageFinish_None          -2.739e+04   7.67e+04     -0.357      0.721   -1.78e+05    1.23e+05\n",
      "GarageFinish_RFn            -2.13e+04    3.4e+04     -0.626      0.531   -8.81e+04    4.55e+04\n",
      "GarageFinish_Unf            -1.96e+04    3.4e+04     -0.577      0.564   -8.63e+04    4.71e+04\n",
      "Fence_GdPrv                -2.266e+04   3.59e+04     -0.630      0.528   -9.32e+04    4.79e+04\n",
      "Fence_GdWo                 -1.504e+04   3.59e+04     -0.419      0.675   -8.55e+04    5.54e+04\n",
      "Fence_MnPrv                -1.537e+04   3.59e+04     -0.428      0.668   -8.58e+04     5.5e+04\n",
      "Fence_MnWw                 -1.633e+04   3.62e+04     -0.451      0.652   -8.74e+04    5.47e+04\n",
      "Fence_None                 -1.605e+04   3.58e+04     -0.449      0.654   -8.62e+04    5.41e+04\n",
      "MiscFeature_Gar2           -4.886e+04   6.31e+04     -0.775      0.439   -1.73e+05    7.49e+04\n",
      "MiscFeature_None            4513.9947   4.07e+04      0.111      0.912   -7.54e+04    8.44e+04\n",
      "MiscFeature_Othr            2.977e+04   4.23e+04      0.703      0.482   -5.33e+04    1.13e+05\n",
      "MiscFeature_Shed            3792.6539   3.96e+04      0.096      0.924    -7.4e+04    8.16e+04\n",
      "MiscFeature_TenC           -7.467e+04   4.44e+04     -1.683      0.093   -1.62e+05    1.24e+04\n",
      "SaleType_COD               -2.221e+04   2.08e+04     -1.068      0.286    -6.3e+04    1.86e+04\n",
      "SaleType_CWD               -1.108e+04   2.31e+04     -0.481      0.631   -5.63e+04    3.42e+04\n",
      "SaleType_Con               -1029.4280   2.65e+04     -0.039      0.969    -5.3e+04     5.1e+04\n",
      "SaleType_ConLD             -2012.5491   2.17e+04     -0.093      0.926   -4.46e+04    4.06e+04\n",
      "SaleType_ConLI              -1.02e+04   2.31e+04     -0.442      0.658   -5.55e+04    3.51e+04\n",
      "SaleType_ConLw             -1.659e+04   2.27e+04     -0.731      0.465   -6.12e+04     2.8e+04\n",
      "SaleType_New                1.593e+04    2.4e+04      0.664      0.507   -3.12e+04     6.3e+04\n",
      "SaleType_Oth               -1.579e+04    2.4e+04     -0.657      0.512    -6.3e+04    3.14e+04\n",
      "SaleType_WD                -2.245e+04   2.02e+04     -1.110      0.267   -6.21e+04    1.72e+04\n",
      "SaleCondition_Abnorml      -1.838e+04   3.01e+04     -0.612      0.541   -7.73e+04    4.06e+04\n",
      "SaleCondition_AdjLand      -1963.8326   3.27e+04     -0.060      0.952   -6.62e+04    6.22e+04\n",
      "SaleCondition_Alloca       -8921.5220   3.12e+04     -0.286      0.775   -7.01e+04    5.23e+04\n",
      "SaleCondition_Family       -1.655e+04   3.03e+04     -0.547      0.585   -7.59e+04    4.28e+04\n",
      "SaleCondition_Normal       -8620.1346   3.01e+04     -0.286      0.775   -6.77e+04    5.05e+04\n",
      "SaleCondition_Partial      -3.101e+04   3.27e+04     -0.947      0.344   -9.52e+04    3.32e+04\n",
      "train_test_train           -8.545e+04   1.79e+05     -0.478      0.632   -4.36e+05    2.65e+05\n",
      "ExMaterial_AsbShng         -3311.9113   8061.211     -0.411      0.681   -1.91e+04    1.25e+04\n",
      "ExMaterial_AsbShng+BrkFace  1.182e+04   2.67e+04      0.443      0.658   -4.06e+04    6.42e+04\n",
      "ExMaterial_AsphShn         -1.016e+04   2.69e+04     -0.378      0.706   -6.29e+04    4.26e+04\n",
      "ExMaterial_AsphShn+HdBoard -2.676e+04   2.94e+04     -0.910      0.363   -8.45e+04     3.1e+04\n",
      "ExMaterial_AsphShn+MetalSd  2.707e+04   2.76e+04      0.979      0.328   -2.71e+04    8.13e+04\n",
      "ExMaterial_Brk Cmn+BrkComm -5097.7104   1.96e+04     -0.261      0.794   -4.35e+04    3.33e+04\n",
      "ExMaterial_Brk Cmn+Plywood -8434.9230   1.78e+04     -0.473      0.636   -4.34e+04    2.65e+04\n",
      "ExMaterial_BrkFace          7658.5139   6871.029      1.115      0.265   -5821.952    2.11e+04\n",
      "ExMaterial_BrkFace+HdBoard  1.103e+04   1.58e+04      0.697      0.486      -2e+04    4.21e+04\n",
      "ExMaterial_BrkFace+Stucco   1.193e+04   2.57e+04      0.464      0.643   -3.85e+04    6.24e+04\n",
      "ExMaterial_BrkFace+Wd Sdng  9355.0387   8270.721      1.131      0.258   -6871.520    2.56e+04\n",
      "ExMaterial_CBlock          -3843.2425   2.64e+04     -0.146      0.884   -5.56e+04    4.79e+04\n",
      "ExMaterial_CmentBd+CemntBd -3758.5023   6025.964     -0.624      0.533   -1.56e+04    8064.005\n",
      "ExMaterial_CmentBd+Stucco    7.52e+04   2.57e+04      2.926      0.003    2.48e+04    1.26e+05\n",
      "ExMaterial_HdBoard         -8405.3133   4681.641     -1.795      0.073   -1.76e+04     779.730\n",
      "ExMaterial_HdBoard+Plywood -8017.0628   6785.789     -1.181      0.238   -2.13e+04    5296.168\n",
      "ExMaterial_HdBoard+Stone    1789.7907   3.21e+04      0.056      0.955   -6.11e+04    6.47e+04\n",
      "ExMaterial_HdBoard+VinylSd -1.711e+04   2.55e+04     -0.672      0.502    -6.7e+04    3.28e+04\n",
      "ExMaterial_HdBoard+WdShing -1.749e+04      2e+04     -0.874      0.383   -5.68e+04    2.18e+04\n",
      "ExMaterial_ImStucc         -1.583e+04   2.55e+04     -0.621      0.535   -6.59e+04    3.42e+04\n",
      "ExMaterial_ImStucc+HdBoard -1.056e+04   1.84e+04     -0.573      0.567   -4.67e+04    2.56e+04\n",
      "ExMaterial_ImStucc+Plywood -6439.7884   1.52e+04     -0.423      0.673   -3.63e+04    2.35e+04\n",
      "ExMaterial_ImStucc+VinylSd   1.95e+04    2.8e+04      0.697      0.486   -3.54e+04    7.44e+04\n",
      "ExMaterial_ImStucc+Wd Sdng  5.341e+04   1.66e+04      3.219      0.001    2.09e+04     8.6e+04\n",
      "ExMaterial_MetalSd         -1177.5456   4541.982     -0.259      0.795   -1.01e+04    7733.496\n",
      "ExMaterial_MetalSd+HdBoard  5490.7173   1.32e+04      0.416      0.677   -2.04e+04    3.14e+04\n",
      "ExMaterial_Other+VinylSd    -4.34e+04   2.55e+04     -1.705      0.088   -9.33e+04    6544.242\n",
      "ExMaterial_Plywood         -9414.1359   5252.502     -1.792      0.073   -1.97e+04     890.896\n",
      "ExMaterial_Plywood+AsbShng  1.602e+04   2.18e+04      0.734      0.463   -2.68e+04    5.89e+04\n",
      "ExMaterial_Plywood+BrkFace  1.013e+04   1.19e+04      0.854      0.393   -1.32e+04    3.34e+04\n",
      "ExMaterial_Plywood+WdShing -1.184e+04    1.3e+04     -0.907      0.364   -3.74e+04    1.38e+04\n",
      "ExMaterial_Stone            8514.9800   2.71e+04      0.314      0.753   -4.47e+04    6.17e+04\n",
      "ExMaterial_Stone+BrkFace   -1.199e+04   1.95e+04     -0.615      0.539   -5.03e+04    2.63e+04\n",
      "ExMaterial_Stone+Stucco     1.825e+04   2.68e+04      0.680      0.497   -3.44e+04    7.09e+04\n",
      "ExMaterial_Stone+Wd Sdng   -4.875e+04   2.88e+04     -1.694      0.091   -1.05e+05    7710.740\n",
      "ExMaterial_Stucco          -7770.0988   7347.069     -1.058      0.290   -2.22e+04    6644.323\n",
      "ExMaterial_Stucco+AsbShng   9467.4953   2.99e+04      0.317      0.751   -4.91e+04     6.8e+04\n",
      "ExMaterial_Stucco+MetalSd   2.188e+04   2.71e+04      0.808      0.419   -3.13e+04     7.5e+04\n",
      "ExMaterial_Stucco+VinylSd    5.57e+04   2.74e+04      2.034      0.042    1972.721    1.09e+05\n",
      "ExMaterial_Stucco+WdShing   -4.42e+04    2.7e+04     -1.636      0.102   -9.72e+04    8811.757\n",
      "ExMaterial_VinylSd         -3019.9248   4558.034     -0.663      0.508    -1.2e+04    5922.610\n",
      "ExMaterial_VinylSd+AsbShng -2.544e+04   2.62e+04     -0.972      0.331   -7.68e+04    2.59e+04\n",
      "ExMaterial_VinylSd+Plywood  -173.0485   1.84e+04     -0.009      0.992   -3.62e+04    3.59e+04\n",
      "ExMaterial_Wd Sdng         -4191.7459   4530.688     -0.925      0.355   -1.31e+04    4697.139\n",
      "ExMaterial_Wd Sdng+AsbShng -2589.0641   2.85e+04     -0.091      0.928   -5.86e+04    5.34e+04\n",
      "ExMaterial_Wd Sdng+CemntBd  1.438e+04   2.58e+04      0.558      0.577   -3.62e+04     6.5e+04\n",
      "ExMaterial_Wd Sdng+HdBoard -7998.4594   1.56e+04     -0.511      0.609   -3.87e+04    2.27e+04\n",
      "ExMaterial_Wd Sdng+MetalSd -6826.0729   1.55e+04     -0.441      0.659   -3.72e+04    2.35e+04\n",
      "ExMaterial_Wd Sdng+Plywood -2.533e+04   9333.163     -2.714      0.007   -4.36e+04   -7019.924\n",
      "ExMaterial_Wd Sdng+Stucco  -3.465e+04   2.75e+04     -1.260      0.208   -8.86e+04    1.93e+04\n",
      "ExMaterial_Wd Sdng+VinylSd -1.371e+04   1.62e+04     -0.847      0.397   -4.55e+04    1.81e+04\n",
      "ExMaterial_Wd Sdng+WdShing  1.282e+04   2.75e+04      0.467      0.641   -4.11e+04    6.67e+04\n",
      "ExMaterial_Wd Shng+BrkFace -1665.4509   2.71e+04     -0.061      0.951   -5.49e+04    5.16e+04\n",
      "ExMaterial_Wd Shng+CemntBd  8.121e+04   2.71e+04      3.001      0.003    2.81e+04    1.34e+05\n",
      "ExMaterial_Wd Shng+HdBoard -1.299e+04   2.53e+04     -0.513      0.608   -6.27e+04    3.67e+04\n",
      "ExMaterial_Wd Shng+MetalSd -3.022e+04   3.05e+04     -0.991      0.322      -9e+04    2.96e+04\n",
      "ExMaterial_Wd Shng+Stucco  -1.532e+04   1.58e+04     -0.973      0.331   -4.62e+04    1.56e+04\n",
      "ExMaterial_Wd Shng+VinylSd -4.359e+04   1.35e+04     -3.226      0.001   -7.01e+04   -1.71e+04\n",
      "ExMaterial_Wd Shng+Wd Sdng -7972.7271   9726.934     -0.820      0.413   -2.71e+04    1.11e+04\n",
      "ExMaterial_Wd Shng+WdShing -8636.3695   7495.574     -1.152      0.249   -2.33e+04    6069.408\n",
      "==============================================================================\n",
      "Omnibus:                      554.394   Durbin-Watson:                   1.879\n",
      "Prob(Omnibus):                  0.000   Jarque-Bera (JB):            53924.158\n",
      "Skew:                          -0.793   Prob(JB):                         0.00\n",
      "Kurtosis:                      32.731   Cond. No.                     9.66e+16\n",
      "==============================================================================\n",
      "\n",
      "Notes:\n",
      "[1] Standard Errors assume that the covariance matrix of the errors is correctly specified.\n",
      "[2] The smallest eigenvalue is 3.48e-23. This might indicate that there are\n",
      "strong multicollinearity problems or that the design matrix is singular.\n"
     ]
    }
   ],
   "source": [
    "import statsmodels.api as sm\n",
    "\n",
    "#fit linear regression model\n",
    "model = sm.OLS(y, X).fit()\n",
    "\n",
    "#view model summary\n",
    "print(model.summary())"
   ]
  },
  {
   "cell_type": "code",
   "execution_count": 28,
   "metadata": {},
   "outputs": [
    {
     "data": {
      "text/plain": [
       "19472.267679783316"
      ]
     },
     "execution_count": 28,
     "metadata": {},
     "output_type": "execute_result"
    }
   ],
   "source": [
    "from sklearn.model_selection import cross_val_predict\n",
    "from sklearn.linear_model import LinearRegression\n",
    "\n",
    "reg = LinearRegression()\n",
    "y_pred = cross_val_predict(reg, X, y, cv=5)\n",
    "mean_absolute_error(y_pred, y)"
   ]
  },
  {
   "cell_type": "markdown",
   "metadata": {},
   "source": [
    "From the above OLS result, we have the following information:\n",
    "* Prob (F-statistic): it is very small, so that means that our model is overall significant.\n",
    "* Omnibus / Prob (Omnibus): the residuals are not distributed normally and are skewed.\n",
    "* We have a lot of parameters that aren't significant based on the T-test, though we have to keep in mind with such a large nubmer of parameters Type I and Type II errors are going to happen.\n",
    "* Both AIC and BIC are large, meaning that there are redundant variables.\n",
    "\n",
    "Since there are some issues with the residual distribution according to the OLS report, we'll check that the 4 assumptions of Linear Regression are met:\n",
    "* Normal Residuals.\n",
    "* Constant Variance across different Y values.\n",
    "* Independence - assumed since large sample.\n",
    "* No Heteroscedacity."
   ]
  },
  {
   "cell_type": "code",
   "execution_count": 29,
   "metadata": {},
   "outputs": [
    {
     "data": {
      "image/png": "[encoded data removed]",
      "text/plain": [
       "<Figure size 1500x1500 with 3 Axes>"
      ]
     },
     "metadata": {},
     "output_type": "display_data"
    }
   ],
   "source": [
    "#Check normal distribution of Residuals\n",
    "import matplotlib.pyplot as plt\n",
    "\n",
    "def test_linreg(y_pred, y):\n",
    "    residuals = y_pred - y\n",
    "\n",
    "    fig = plt.figure(figsize=(15,15))\n",
    "    #histogram\n",
    "    ax1 = plt.subplot(2,2,1)\n",
    "    ax1.hist(residuals, bins=100)\n",
    "    ax1.set_title('Histogram of residuals')\n",
    "\n",
    "    #qq plot\n",
    "    ax2 = plt.subplot(2,2,2)\n",
    "    ax2.scatter(y_pred,y)\n",
    "    ax2.plot([min(y),max(y)],[min(y),max(y)], color='red')\n",
    "    ax2.set_title('QQ plot of residuals')\n",
    "    ax2.set_ylabel('y_true')\n",
    "    ax2.set_xlabel('y_pred')\n",
    "\n",
    "    #Heteroscedasity test\n",
    "    ax3 = plt.subplot(2,2,3)\n",
    "    ax3.scatter(y, residuals)\n",
    "    ax3.plot([0,max(y)],[0,0], color='red')\n",
    "    ax3.plot([0,max(y)],[-3*residuals.std(),-3*residuals.std()], color='red')\n",
    "    ax3.plot([0,max(y)],[3*residuals.std(),3*residuals.std()], color='red')\n",
    "    plt.show()\n",
    "    \n",
    "    return residuals\n",
    "    \n",
    "residuals = test_linreg(y_pred, y)"
   ]
  },
  {
   "cell_type": "markdown",
   "metadata": {},
   "source": [
    "The residuals mostly follow a bell curve and the QQ plot appears to have a slope of 1. However, the residuals are skewed to the right, and there are several outliers. "
   ]
  },
  {
   "cell_type": "code",
   "execution_count": 30,
   "metadata": {},
   "outputs": [
    {
     "data": {
      "text/plain": [
       "3.179247434510342"
      ]
     },
     "execution_count": 30,
     "metadata": {},
     "output_type": "execute_result"
    }
   ],
   "source": [
    "(residuals.quantile(0.975) - residuals.quantile(0.025))/residuals.std()"
   ]
  },
  {
   "cell_type": "markdown",
   "metadata": {},
   "source": [
    "### Log the Target\n",
    "\n",
    "Let's try training the Linear Regression with the log of the SalePrice, and exponentiate the output. Based on the results shown below, it looks like logging the SalePrice yields a lower mean absolute error and better conformity with the assumptions of linear regression."
   ]
  },
  {
   "cell_type": "code",
   "execution_count": 31,
   "metadata": {},
   "outputs": [
    {
     "data": {
      "text/plain": [
       "16886.762157003006"
      ]
     },
     "execution_count": 31,
     "metadata": {},
     "output_type": "execute_result"
    }
   ],
   "source": [
    "reg = LinearRegression()\n",
    "y_log = np.log(y)\n",
    "y_pred = cross_val_predict(reg, X, y_log, cv=5)\n",
    "mean_absolute_error(np.exp(y_pred), y)"
   ]
  },
  {
   "cell_type": "code",
   "execution_count": 32,
   "metadata": {},
   "outputs": [
    {
     "data": {
      "image/png": "[encoded data removed]",
      "text/plain": [
       "<Figure size 1500x1500 with 3 Axes>"
      ]
     },
     "metadata": {},
     "output_type": "display_data"
    }
   ],
   "source": [
    "residuals = test_linreg(np.exp(y_pred), y)"
   ]
  },
  {
   "cell_type": "code",
   "execution_count": 33,
   "metadata": {},
   "outputs": [
    {
     "data": {
      "text/plain": [
       "2.295105315745699"
      ]
     },
     "execution_count": 33,
     "metadata": {},
     "output_type": "execute_result"
    }
   ],
   "source": [
    "(residuals.quantile(0.975) - residuals.quantile(0.025))/residuals.std()"
   ]
  },
  {
   "cell_type": "markdown",
   "metadata": {},
   "source": [
    "There, however, does exist some outliers. Let's examine these."
   ]
  },
  {
   "cell_type": "code",
   "execution_count": 34,
   "metadata": {},
   "outputs": [
    {
     "data": {
      "text/html": [
       "<div>\n",
       "<style scoped>\n",
       "    .dataframe tbody tr th:only-of-type {\n",
       "        vertical-align: middle;\n",
       "    }\n",
       "\n",
       "    .dataframe tbody tr th {\n",
       "        vertical-align: top;\n",
       "    }\n",
       "\n",
       "    .dataframe thead th {\n",
       "        text-align: right;\n",
       "    }\n",
       "</style>\n",
       "<table border=\"1\" class=\"dataframe\">\n",
       "  <thead>\n",
       "    <tr style=\"text-align: right;\">\n",
       "      <th></th>\n",
       "      <th>Norm</th>\n",
       "      <th>Feedr</th>\n",
       "      <th>PosN</th>\n",
       "      <th>Artery</th>\n",
       "      <th>RRAe</th>\n",
       "      <th>RRNn</th>\n",
       "      <th>RRAn</th>\n",
       "      <th>PosA</th>\n",
       "      <th>RRNe</th>\n",
       "      <th>MSSubClass</th>\n",
       "      <th>MSZoning</th>\n",
       "      <th>LotFrontage</th>\n",
       "      <th>LotArea</th>\n",
       "      <th>Street</th>\n",
       "      <th>Alley</th>\n",
       "      <th>LotShape</th>\n",
       "      <th>LandContour</th>\n",
       "      <th>Utilities</th>\n",
       "      <th>LotConfig</th>\n",
       "      <th>LandSlope</th>\n",
       "      <th>Neighborhood</th>\n",
       "      <th>BldgType</th>\n",
       "      <th>HouseStyle</th>\n",
       "      <th>OverallQual</th>\n",
       "      <th>OverallCond</th>\n",
       "      <th>YearBuilt</th>\n",
       "      <th>YearRemodAdd</th>\n",
       "      <th>RoofStyle</th>\n",
       "      <th>RoofMatl</th>\n",
       "      <th>MasVnrType</th>\n",
       "      <th>MasVnrArea</th>\n",
       "      <th>ExterQual</th>\n",
       "      <th>ExterCond</th>\n",
       "      <th>Foundation</th>\n",
       "      <th>BsmtQual</th>\n",
       "      <th>BsmtCond</th>\n",
       "      <th>BsmtExposure</th>\n",
       "      <th>BsmtFinType1</th>\n",
       "      <th>BsmtFinSF1</th>\n",
       "      <th>BsmtFinType2</th>\n",
       "      <th>BsmtFinSF2</th>\n",
       "      <th>BsmtUnfSF</th>\n",
       "      <th>TotalBsmtSF</th>\n",
       "      <th>Heating</th>\n",
       "      <th>HeatingQC</th>\n",
       "      <th>CentralAir</th>\n",
       "      <th>Electrical</th>\n",
       "      <th>1stFlrSF</th>\n",
       "      <th>2ndFlrSF</th>\n",
       "      <th>LowQualFinSF</th>\n",
       "      <th>GrLivArea</th>\n",
       "      <th>BsmtFullBath</th>\n",
       "      <th>BsmtHalfBath</th>\n",
       "      <th>FullBath</th>\n",
       "      <th>HalfBath</th>\n",
       "      <th>BedroomAbvGr</th>\n",
       "      <th>KitchenAbvGr</th>\n",
       "      <th>KitchenQual</th>\n",
       "      <th>TotRmsAbvGrd</th>\n",
       "      <th>Functional</th>\n",
       "      <th>Fireplaces</th>\n",
       "      <th>FireplaceQu</th>\n",
       "      <th>GarageType</th>\n",
       "      <th>GarageYrBlt</th>\n",
       "      <th>GarageFinish</th>\n",
       "      <th>GarageCars</th>\n",
       "      <th>GarageArea</th>\n",
       "      <th>GarageQual</th>\n",
       "      <th>GarageCond</th>\n",
       "      <th>PavedDrive</th>\n",
       "      <th>WoodDeckSF</th>\n",
       "      <th>OpenPorchSF</th>\n",
       "      <th>EnclosedPorch</th>\n",
       "      <th>3SsnPorch</th>\n",
       "      <th>ScreenPorch</th>\n",
       "      <th>PoolArea</th>\n",
       "      <th>PoolQC</th>\n",
       "      <th>Fence</th>\n",
       "      <th>MiscFeature</th>\n",
       "      <th>MiscVal</th>\n",
       "      <th>MoSold</th>\n",
       "      <th>YrSold</th>\n",
       "      <th>SaleType</th>\n",
       "      <th>SaleCondition</th>\n",
       "      <th>SalePrice</th>\n",
       "      <th>train_test</th>\n",
       "      <th>HasGarage</th>\n",
       "      <th>DiffHouseGarageYrs</th>\n",
       "      <th>HasLowGarageDiff</th>\n",
       "      <th>Has2ndFlr</th>\n",
       "      <th>HasLowQualSF</th>\n",
       "      <th>HasVnrArea</th>\n",
       "      <th>ExMaterial</th>\n",
       "      <th>NumBsmtFinType</th>\n",
       "      <th>Bsmt_ALQ_Area</th>\n",
       "      <th>Bsmt_BLQ_Area</th>\n",
       "      <th>Bsmt_GLQ_Area</th>\n",
       "      <th>Bsmt_LwQ_Area</th>\n",
       "      <th>Bsmt_Rec_Area</th>\n",
       "      <th>IsAvgGCond</th>\n",
       "      <th>IsAvgGQual</th>\n",
       "      <th>AvgRmSize</th>\n",
       "    </tr>\n",
       "  </thead>\n",
       "  <tbody>\n",
       "    <tr>\n",
       "      <th>523</th>\n",
       "      <td>0</td>\n",
       "      <td>0</td>\n",
       "      <td>2</td>\n",
       "      <td>0</td>\n",
       "      <td>0</td>\n",
       "      <td>0</td>\n",
       "      <td>0</td>\n",
       "      <td>0</td>\n",
       "      <td>0</td>\n",
       "      <td>60</td>\n",
       "      <td>RL</td>\n",
       "      <td>130.0</td>\n",
       "      <td>40094</td>\n",
       "      <td>Pave</td>\n",
       "      <td>None</td>\n",
       "      <td>1</td>\n",
       "      <td>Bnk</td>\n",
       "      <td>AllPub</td>\n",
       "      <td>Inside</td>\n",
       "      <td>0</td>\n",
       "      <td>Edwards</td>\n",
       "      <td>1Fam</td>\n",
       "      <td>2Story</td>\n",
       "      <td>10</td>\n",
       "      <td>5</td>\n",
       "      <td>2007</td>\n",
       "      <td>2008</td>\n",
       "      <td>Hip</td>\n",
       "      <td>CompShg</td>\n",
       "      <td>Stone</td>\n",
       "      <td>762.0</td>\n",
       "      <td>5</td>\n",
       "      <td>3</td>\n",
       "      <td>PConc</td>\n",
       "      <td>5</td>\n",
       "      <td>3</td>\n",
       "      <td>4</td>\n",
       "      <td>GLQ</td>\n",
       "      <td>2260.0</td>\n",
       "      <td>Unf</td>\n",
       "      <td>0.0</td>\n",
       "      <td>878.0</td>\n",
       "      <td>3138.0</td>\n",
       "      <td>GasA</td>\n",
       "      <td>5.0</td>\n",
       "      <td>1.0</td>\n",
       "      <td>SBrkr</td>\n",
       "      <td>3138</td>\n",
       "      <td>1538</td>\n",
       "      <td>0</td>\n",
       "      <td>4676</td>\n",
       "      <td>1.0</td>\n",
       "      <td>0.0</td>\n",
       "      <td>3</td>\n",
       "      <td>1</td>\n",
       "      <td>3</td>\n",
       "      <td>1</td>\n",
       "      <td>5</td>\n",
       "      <td>11</td>\n",
       "      <td>0.0</td>\n",
       "      <td>1</td>\n",
       "      <td>4</td>\n",
       "      <td>BuiltIn</td>\n",
       "      <td>2007.0</td>\n",
       "      <td>Fin</td>\n",
       "      <td>3.0</td>\n",
       "      <td>884.0</td>\n",
       "      <td>3</td>\n",
       "      <td>3</td>\n",
       "      <td>1.0</td>\n",
       "      <td>208</td>\n",
       "      <td>406</td>\n",
       "      <td>0</td>\n",
       "      <td>0</td>\n",
       "      <td>0</td>\n",
       "      <td>0</td>\n",
       "      <td>0</td>\n",
       "      <td>None</td>\n",
       "      <td>None</td>\n",
       "      <td>0</td>\n",
       "      <td>10</td>\n",
       "      <td>2007</td>\n",
       "      <td>New</td>\n",
       "      <td>Partial</td>\n",
       "      <td>184750.0</td>\n",
       "      <td>train</td>\n",
       "      <td>True</td>\n",
       "      <td>0.0</td>\n",
       "      <td>True</td>\n",
       "      <td>True</td>\n",
       "      <td>False</td>\n",
       "      <td>False</td>\n",
       "      <td>CmentBd+CemntBd</td>\n",
       "      <td>2</td>\n",
       "      <td>0.0</td>\n",
       "      <td>0.0</td>\n",
       "      <td>2260.0</td>\n",
       "      <td>0.0</td>\n",
       "      <td>0.0</td>\n",
       "      <td>True</td>\n",
       "      <td>True</td>\n",
       "      <td>425.090909</td>\n",
       "    </tr>\n",
       "    <tr>\n",
       "      <th>1298</th>\n",
       "      <td>0</td>\n",
       "      <td>1</td>\n",
       "      <td>0</td>\n",
       "      <td>0</td>\n",
       "      <td>0</td>\n",
       "      <td>0</td>\n",
       "      <td>0</td>\n",
       "      <td>0</td>\n",
       "      <td>0</td>\n",
       "      <td>60</td>\n",
       "      <td>RL</td>\n",
       "      <td>313.0</td>\n",
       "      <td>63887</td>\n",
       "      <td>Pave</td>\n",
       "      <td>None</td>\n",
       "      <td>3</td>\n",
       "      <td>Bnk</td>\n",
       "      <td>AllPub</td>\n",
       "      <td>Corner</td>\n",
       "      <td>0</td>\n",
       "      <td>Edwards</td>\n",
       "      <td>1Fam</td>\n",
       "      <td>2Story</td>\n",
       "      <td>10</td>\n",
       "      <td>5</td>\n",
       "      <td>2008</td>\n",
       "      <td>2008</td>\n",
       "      <td>Hip</td>\n",
       "      <td>ClyTile</td>\n",
       "      <td>Stone</td>\n",
       "      <td>796.0</td>\n",
       "      <td>5</td>\n",
       "      <td>3</td>\n",
       "      <td>PConc</td>\n",
       "      <td>5</td>\n",
       "      <td>3</td>\n",
       "      <td>4</td>\n",
       "      <td>GLQ</td>\n",
       "      <td>5644.0</td>\n",
       "      <td>Unf</td>\n",
       "      <td>0.0</td>\n",
       "      <td>466.0</td>\n",
       "      <td>6110.0</td>\n",
       "      <td>GasA</td>\n",
       "      <td>5.0</td>\n",
       "      <td>1.0</td>\n",
       "      <td>SBrkr</td>\n",
       "      <td>4692</td>\n",
       "      <td>950</td>\n",
       "      <td>0</td>\n",
       "      <td>5642</td>\n",
       "      <td>2.0</td>\n",
       "      <td>0.0</td>\n",
       "      <td>2</td>\n",
       "      <td>1</td>\n",
       "      <td>3</td>\n",
       "      <td>1</td>\n",
       "      <td>5</td>\n",
       "      <td>12</td>\n",
       "      <td>0.0</td>\n",
       "      <td>3</td>\n",
       "      <td>4</td>\n",
       "      <td>Attchd</td>\n",
       "      <td>2008.0</td>\n",
       "      <td>Fin</td>\n",
       "      <td>2.0</td>\n",
       "      <td>1418.0</td>\n",
       "      <td>3</td>\n",
       "      <td>3</td>\n",
       "      <td>1.0</td>\n",
       "      <td>214</td>\n",
       "      <td>292</td>\n",
       "      <td>0</td>\n",
       "      <td>0</td>\n",
       "      <td>0</td>\n",
       "      <td>480</td>\n",
       "      <td>4</td>\n",
       "      <td>None</td>\n",
       "      <td>None</td>\n",
       "      <td>0</td>\n",
       "      <td>1</td>\n",
       "      <td>2008</td>\n",
       "      <td>New</td>\n",
       "      <td>Partial</td>\n",
       "      <td>160000.0</td>\n",
       "      <td>train</td>\n",
       "      <td>True</td>\n",
       "      <td>0.0</td>\n",
       "      <td>True</td>\n",
       "      <td>True</td>\n",
       "      <td>False</td>\n",
       "      <td>False</td>\n",
       "      <td>Stucco</td>\n",
       "      <td>2</td>\n",
       "      <td>0.0</td>\n",
       "      <td>0.0</td>\n",
       "      <td>5644.0</td>\n",
       "      <td>0.0</td>\n",
       "      <td>0.0</td>\n",
       "      <td>True</td>\n",
       "      <td>True</td>\n",
       "      <td>470.166667</td>\n",
       "    </tr>\n",
       "  </tbody>\n",
       "</table>\n",
       "</div>"
      ],
      "text/plain": [
       "      Norm  Feedr  PosN  Artery  RRAe  RRNn  RRAn  PosA  RRNe  MSSubClass  \\\n",
       "523      0      0     2       0     0     0     0     0     0          60   \n",
       "1298     0      1     0       0     0     0     0     0     0          60   \n",
       "\n",
       "     MSZoning  LotFrontage  LotArea Street Alley  LotShape LandContour  \\\n",
       "523        RL        130.0    40094   Pave  None         1         Bnk   \n",
       "1298       RL        313.0    63887   Pave  None         3         Bnk   \n",
       "\n",
       "     Utilities LotConfig  LandSlope Neighborhood BldgType HouseStyle  \\\n",
       "523     AllPub    Inside          0      Edwards     1Fam     2Story   \n",
       "1298    AllPub    Corner          0      Edwards     1Fam     2Story   \n",
       "\n",
       "      OverallQual  OverallCond  YearBuilt  YearRemodAdd RoofStyle RoofMatl  \\\n",
       "523            10            5       2007          2008       Hip  CompShg   \n",
       "1298           10            5       2008          2008       Hip  ClyTile   \n",
       "\n",
       "     MasVnrType  MasVnrArea  ExterQual  ExterCond Foundation  BsmtQual  \\\n",
       "523       Stone       762.0          5          3      PConc         5   \n",
       "1298      Stone       796.0          5          3      PConc         5   \n",
       "\n",
       "      BsmtCond  BsmtExposure BsmtFinType1  BsmtFinSF1 BsmtFinType2  \\\n",
       "523          3             4          GLQ      2260.0          Unf   \n",
       "1298         3             4          GLQ      5644.0          Unf   \n",
       "\n",
       "      BsmtFinSF2  BsmtUnfSF  TotalBsmtSF Heating  HeatingQC  CentralAir  \\\n",
       "523          0.0      878.0       3138.0    GasA        5.0         1.0   \n",
       "1298         0.0      466.0       6110.0    GasA        5.0         1.0   \n",
       "\n",
       "     Electrical  1stFlrSF  2ndFlrSF  LowQualFinSF  GrLivArea  BsmtFullBath  \\\n",
       "523       SBrkr      3138      1538             0       4676           1.0   \n",
       "1298      SBrkr      4692       950             0       5642           2.0   \n",
       "\n",
       "      BsmtHalfBath  FullBath  HalfBath  BedroomAbvGr  KitchenAbvGr  \\\n",
       "523            0.0         3         1             3             1   \n",
       "1298           0.0         2         1             3             1   \n",
       "\n",
       "      KitchenQual  TotRmsAbvGrd  Functional  Fireplaces  FireplaceQu  \\\n",
       "523             5            11         0.0           1            4   \n",
       "1298            5            12         0.0           3            4   \n",
       "\n",
       "     GarageType  GarageYrBlt GarageFinish  GarageCars  GarageArea  GarageQual  \\\n",
       "523     BuiltIn       2007.0          Fin         3.0       884.0           3   \n",
       "1298     Attchd       2008.0          Fin         2.0      1418.0           3   \n",
       "\n",
       "      GarageCond  PavedDrive  WoodDeckSF  OpenPorchSF  EnclosedPorch  \\\n",
       "523            3         1.0         208          406              0   \n",
       "1298           3         1.0         214          292              0   \n",
       "\n",
       "      3SsnPorch  ScreenPorch  PoolArea  PoolQC Fence MiscFeature  MiscVal  \\\n",
       "523           0            0         0       0  None        None        0   \n",
       "1298          0            0       480       4  None        None        0   \n",
       "\n",
       "      MoSold  YrSold SaleType SaleCondition  SalePrice train_test  HasGarage  \\\n",
       "523       10    2007      New       Partial   184750.0      train       True   \n",
       "1298       1    2008      New       Partial   160000.0      train       True   \n",
       "\n",
       "      DiffHouseGarageYrs  HasLowGarageDiff  Has2ndFlr  HasLowQualSF  \\\n",
       "523                  0.0              True       True         False   \n",
       "1298                 0.0              True       True         False   \n",
       "\n",
       "      HasVnrArea       ExMaterial  NumBsmtFinType  Bsmt_ALQ_Area  \\\n",
       "523        False  CmentBd+CemntBd               2            0.0   \n",
       "1298       False           Stucco               2            0.0   \n",
       "\n",
       "      Bsmt_BLQ_Area  Bsmt_GLQ_Area  Bsmt_LwQ_Area  Bsmt_Rec_Area  IsAvgGCond  \\\n",
       "523             0.0         2260.0            0.0            0.0        True   \n",
       "1298            0.0         5644.0            0.0            0.0        True   \n",
       "\n",
       "      IsAvgGQual   AvgRmSize  \n",
       "523         True  425.090909  \n",
       "1298        True  470.166667  "
      ]
     },
     "execution_count": 34,
     "metadata": {},
     "output_type": "execute_result"
    }
   ],
   "source": [
    "#Check the outliers\n",
    "pd.set_option('display.max_columns',1000)\n",
    "df[residuals > 0.5e6]"
   ]
  },
  {
   "cell_type": "markdown",
   "metadata": {},
   "source": [
    "Let's remove these outliers and then re-run the model"
   ]
  },
  {
   "cell_type": "code",
   "execution_count": 35,
   "metadata": {},
   "outputs": [],
   "source": [
    "df = df.drop([523,1298],axis=0)"
   ]
  },
  {
   "cell_type": "code",
   "execution_count": 36,
   "metadata": {},
   "outputs": [
    {
     "data": {
      "text/plain": [
       "14919.444465040562"
      ]
     },
     "execution_count": 36,
     "metadata": {},
     "output_type": "execute_result"
    }
   ],
   "source": [
    "y = df['SalePrice']\n",
    "X = pd.get_dummies(df.drop('SalePrice',axis=1))\n",
    "\n",
    "reg = LinearRegression()\n",
    "y_pred = cross_val_predict(reg, X, np.log(y), cv=5)\n",
    "mean_absolute_error(np.exp(y_pred), y)"
   ]
  },
  {
   "cell_type": "code",
   "execution_count": 37,
   "metadata": {},
   "outputs": [
    {
     "data": {
      "image/png": "[encoded data removed]",
      "text/plain": [
       "<Figure size 1500x1500 with 3 Axes>"
      ]
     },
     "metadata": {},
     "output_type": "display_data"
    }
   ],
   "source": [
    "#Check normal distribution of Residuals\n",
    "import matplotlib.pyplot as plt\n",
    "residuals = test_linreg(np.exp(y_pred), y)"
   ]
  },
  {
   "cell_type": "code",
   "execution_count": 38,
   "metadata": {},
   "outputs": [
    {
     "data": {
      "text/plain": [
       "4.093080545181037"
      ]
     },
     "execution_count": 38,
     "metadata": {},
     "output_type": "execute_result"
    }
   ],
   "source": [
    "(residuals.quantile(0.975) - residuals.quantile(0.025))/residuals.std()"
   ]
  },
  {
   "cell_type": "markdown",
   "metadata": {},
   "source": [
    "I'll save a csv file of the last version of the dataset, the one with the SalePrice variable logged and the outliers removed."
   ]
  },
  {
   "cell_type": "code",
   "execution_count": 39,
   "metadata": {},
   "outputs": [],
   "source": [
    "df_med = pd.concat([X,np.log(df['SalePrice'])],axis=1)\n",
    "df_med.to_csv('./Interim Data/logged_outlier_removed.csv',index=False)"
   ]
  },
  {
   "cell_type": "markdown",
   "metadata": {},
   "source": [
    "## Feature Selection and Regularization\n",
    "\n",
    "Since there were a lot of redundant and insignificant features, let's see if removing some of those features would help us achieve more accurate results. Here we'll test the below feature selection methods:\n",
    "- VIF\n",
    "- Forward Selection\n",
    "- Backward Selection\n",
    "\n",
    "As well as some regularization methods:\n",
    "- Ridge\n",
    "- Lasso"
   ]
  },
  {
   "cell_type": "code",
   "execution_count": 2,
   "metadata": {},
   "outputs": [],
   "source": [
    "#Reading in the Data\n",
    "df_med = pd.read_csv('./Interim Data/logged_outlier_removed.csv').astype('float')\n",
    "\n",
    "# X and y creation\n",
    "y = df_med['SalePrice']\n",
    "X = df_med.drop('SalePrice',axis=1)"
   ]
  },
  {
   "cell_type": "markdown",
   "metadata": {},
   "source": [
    "### VIF\n",
    "\n",
    "VIF is a filter feature selection method, which is when a subset of features are selected based on a certain criteria / value (in this case VIF) independent of the exact Machine Learning Algorithm the features will be used in.\n",
    "\n",
    "VIF (Variance Inflation Factor) is a numerical measurement of a feature's multicollinearity with other features. A larger VIF means the the feature is more correlated with other features and should be dropped, and is a useful metric to filter out intercorrelated metrics, as we have here. As a rule of thumb, VIFs in the 5-20 range or higher are considered signs of multicollinearity and should be removed, though this threshold is arbitrary."
   ]
  },
  {
   "cell_type": "code",
   "execution_count": 41,
   "metadata": {},
   "outputs": [
    {
     "name": "stdout",
     "output_type": "stream",
     "text": [
      "Threshold = 5, MAE = 26007.986359159724\n",
      "Threshold = 6, MAE = 21771.401426661643\n",
      "Threshold = 7, MAE = 21772.27458706283\n",
      "Threshold = 8, MAE = 20195.440549569656\n",
      "Threshold = 9, MAE = 20159.151718341767\n",
      "Threshold = 10, MAE = 20159.151718341767\n",
      "Threshold = 11, MAE = 20159.151718341767\n",
      "Threshold = 12, MAE = 20291.08819080517\n",
      "Threshold = 13, MAE = 20291.08819080517\n",
      "Threshold = 14, MAE = 20291.08819080517\n",
      "Threshold = 15, MAE = 20306.60746884162\n",
      "Threshold = 16, MAE = 20306.60746884162\n",
      "Threshold = 17, MAE = 20306.60746884162\n",
      "Threshold = 18, MAE = 20306.60746884162\n",
      "Threshold = 19, MAE = 20306.60746884162\n"
     ]
    }
   ],
   "source": [
    "def vif_reduction(x, thresh = 5):\n",
    "    output = x.copy()\n",
    "    k = output.columns\n",
    "    #Collection of vif and column names:\n",
    "    vif = [(variance_inflation_factor(output.values,i), k[i]) for i in range(len(k))]\n",
    "    for i, col in vif:\n",
    "        if i > thresh:\n",
    "            output = output.drop(col, axis=1)\n",
    "    return output\n",
    "\n",
    "for t in list(range(5,20,1)):\n",
    "    vif_features = vif_reduction(X, thresh = t)\n",
    "    reg = LinearRegression()\n",
    "    y_pred = cross_val_predict(reg, vif_features, y, cv=5)\n",
    "    mae = mean_absolute_error(np.exp(y_pred), np.exp(y))\n",
    "    print('Threshold = {}, MAE = {}'.format(t,mae))"
   ]
  },
  {
   "cell_type": "markdown",
   "metadata": {},
   "source": [
    "It seems that the best VIF threshold for linear regression would be 9. Let's look at the columns."
   ]
  },
  {
   "cell_type": "code",
   "execution_count": 42,
   "metadata": {},
   "outputs": [
    {
     "data": {
      "text/plain": [
       "Index(['PosN', 'Artery', 'RRAe', 'RRNn', 'RRAn', 'PosA', 'RRNe', 'LotFrontage',\n",
       "       'LotArea', 'LotShape', 'LandSlope', 'OverallQual', 'OverallCond',\n",
       "       'YearRemodAdd', 'MasVnrArea', 'ExterQual', 'ExterCond', 'BsmtQual',\n",
       "       'BsmtCond', 'BsmtExposure', 'HeatingQC', 'CentralAir', 'BsmtFullBath',\n",
       "       'BsmtHalfBath', 'FullBath', 'HalfBath', 'BedroomAbvGr', 'KitchenAbvGr',\n",
       "       'KitchenQual', 'Functional', 'Fireplaces', 'FireplaceQu', 'GarageCars',\n",
       "       'GarageArea', 'PavedDrive', 'WoodDeckSF', 'OpenPorchSF',\n",
       "       'EnclosedPorch', '3SsnPorch', 'ScreenPorch', 'MoSold', 'YrSold',\n",
       "       'HasLowGarageDiff', 'HasLowQualSF', 'IsAvgGCond', 'IsAvgGQual',\n",
       "       'train_test_train'],\n",
       "      dtype='object')"
      ]
     },
     "execution_count": 42,
     "metadata": {},
     "output_type": "execute_result"
    }
   ],
   "source": [
    "vif_features = vif_reduction(X, thresh = 9)\n",
    "vif_features.columns"
   ]
  },
  {
   "cell_type": "code",
   "execution_count": 43,
   "metadata": {},
   "outputs": [
    {
     "data": {
      "text/plain": [
       "47"
      ]
     },
     "execution_count": 43,
     "metadata": {},
     "output_type": "execute_result"
    }
   ],
   "source": [
    "len(vif_features.columns)"
   ]
  },
  {
   "cell_type": "markdown",
   "metadata": {},
   "source": [
    "Though the final MAE is still higher than which we got using all the features, it is impressive that they are even on the same scale considering that we only retained approximately 1/7 of the features. \n",
    "\n",
    "I wonder if we could reduce it more by expanding the VIF threshold beyond 20."
   ]
  },
  {
   "cell_type": "code",
   "execution_count": 44,
   "metadata": {},
   "outputs": [
    {
     "name": "stdout",
     "output_type": "stream",
     "text": [
      "Threshold = 20, MAE = 20306.60746884162\n",
      "Threshold = 40, MAE = 18836.290766040383\n",
      "Threshold = 60, MAE = 16344.505161420147\n",
      "Threshold = 80, MAE = 16354.99161740116\n",
      "Threshold = 100, MAE = 16354.99161740116\n",
      "Threshold = 120, MAE = 16354.99161740116\n",
      "Threshold = 140, MAE = 16354.99161740116\n",
      "Threshold = 160, MAE = 16354.99161740116\n",
      "Threshold = 180, MAE = 16354.99161740116\n"
     ]
    }
   ],
   "source": [
    "for t in list(range(20,200,20)):\n",
    "    vif_features = vif_reduction(X, thresh = t)\n",
    "    reg = LinearRegression()\n",
    "    y_pred = cross_val_predict(reg, vif_features, y, cv=5)\n",
    "    mae = mean_absolute_error(np.exp(y_pred), np.exp(y))\n",
    "    print('Threshold = {}, MAE = {}'.format(t,mae))"
   ]
  },
  {
   "cell_type": "code",
   "execution_count": 45,
   "metadata": {},
   "outputs": [
    {
     "data": {
      "text/plain": [
       "58"
      ]
     },
     "execution_count": 45,
     "metadata": {},
     "output_type": "execute_result"
    }
   ],
   "source": [
    "vif_features = vif_reduction(X, thresh = 60)\n",
    "len(vif_features.columns)"
   ]
  },
  {
   "cell_type": "markdown",
   "metadata": {},
   "source": [
    "Looks like we could yield an even lower MAE by increasing the VIF threshold to 60, which would keep 59 out of the 281 original variables. Maybe I will use this reduced version of the dataset instead of the original even though the MAE is higher, considering that the difference isn't that drastic (approximately 12.5% less) and we can be victim to overfitting.\n",
    "\n",
    "### Forward Selection\n",
    "\n",
    "Both Forward and Backward Selections are wrapper feature selection methods, which means that features' importances are determined using the output of a certain Machine Learning algorithm. Based on the performance of the model with the selected filters variables are added or removed.\n",
    "\n",
    "First, we are going to use Forward Selection, which is adding features, from an initial state of 0 features, to a model based on the scoring criteria. It stops when adding new features won't significantly improve the model."
   ]
  },
  {
   "cell_type": "code",
   "execution_count": 46,
   "metadata": {},
   "outputs": [
    {
     "name": "stderr",
     "output_type": "stream",
     "text": [
      "100%|█████████████████████████████████████| 279/279 [38:57:30<00:00, 502.69s/it]"
     ]
    },
    {
     "name": "stdout",
     "output_type": "stream",
     "text": [
      "78 12432.487841318138\n"
     ]
    },
    {
     "name": "stderr",
     "output_type": "stream",
     "text": [
      "\n"
     ]
    }
   ],
   "source": [
    "from sklearn.feature_selection import SequentialFeatureSelector\n",
    "from tqdm import tqdm\n",
    "\n",
    "feature_selections = []\n",
    "reg = LinearRegression()\n",
    "\n",
    "for i in tqdm(range(1,len(X.columns))):\n",
    "    for_sel = SequentialFeatureSelector(reg,n_features_to_select=i,direction='forward',scoring='neg_mean_absolute_error')\n",
    "    for_sel_features = for_sel.fit_transform(X,y)\n",
    "    y_pred = cross_val_predict(reg, for_sel_features, y, cv=5)\n",
    "    feature_selections.append(mean_absolute_error(np.exp(y_pred), np.exp(y)))\n",
    "    \n",
    "print(feature_selections.index(min(feature_selections))+1, min(feature_selections))"
   ]
  },
  {
   "cell_type": "code",
   "execution_count": 50,
   "metadata": {},
   "outputs": [
    {
     "data": {
      "text/plain": [
       "17609.476774186183"
      ]
     },
     "execution_count": 50,
     "metadata": {},
     "output_type": "execute_result"
    }
   ],
   "source": [
    "#Let's try re-running this on another set of data\n",
    "\n",
    "reg = LinearRegression()\n",
    "sel = SequentialFeatureSelector(reg,n_features_to_select=78,direction='forward',scoring='neg_mean_absolute_error')\n",
    "X2 = for_sel.fit_transform(X,y)\n",
    "y_pred = cross_val_predict(reg, X2, y, cv=5)\n",
    "mean_absolute_error(np.exp(y_pred), np.exp(y))"
   ]
  },
  {
   "cell_type": "markdown",
   "metadata": {},
   "source": [
    "### Backward Elimination\n",
    "\n",
    "In contrast to Forward Selection, Backward Elimination is removing features, from an initial state when all features are included, from a model based on their lack of significance and improvement in regards to the scoring criteria. \n",
    "\n",
    "It stops when removing features won't significantly improve the model."
   ]
  },
  {
   "cell_type": "code",
   "execution_count": 11,
   "metadata": {},
   "outputs": [],
   "source": [
    "X=X.drop('train_test_train',axis=1)"
   ]
  },
  {
   "cell_type": "code",
   "execution_count": 25,
   "metadata": {},
   "outputs": [
    {
     "name": "stdout",
     "output_type": "stream",
     "text": [
      "The lowest MAE accomplished is 13256.143339611313, with 273 parameters\n"
     ]
    }
   ],
   "source": [
    "newX = pd.DataFrame(X.reset_index(drop=True))\n",
    "feature_selections = []\n",
    "for i in range(len(newX.columns),1,-1):\n",
    "    X_train, X_test, y_train, y_test = train_test_split(newX, y, test_size = 0.3)\n",
    "    \n",
    "    lm = LinearRegression()\n",
    "    lm.fit(X_train,y_train)\n",
    "    params = lm.coef_\n",
    "    predictions = lm.predict(X_test)\n",
    "\n",
    "    MSE = (sum((y_test-predictions)**2))/(len(newX)-len(newX.columns))\n",
    "    \n",
    "    var_b = newX.var()/((newX - newX.mean())**2).sum()\n",
    "    sd_b = np.sqrt(var_b)\n",
    "    ts_b = params / sd_b\n",
    "\n",
    "    p_values =2*(1-stats.t.cdf(np.abs(ts_b),newX.shape[0]-1))\n",
    "\n",
    "    myDF3 = pd.DataFrame({'Coefficients':params, 'Standard Errors': sd_b, 't values':ts_b, 'Probabilities':p_values})\n",
    "    try:\n",
    "        feature_selections.append((i, newX.columns, mean_absolute_error(np.exp(predictions),np.exp(y_test))))\n",
    "    except ValueError:\n",
    "        feature_selections.append((i, newX.columns, np.inf))\n",
    "    try:\n",
    "        newX = newX.drop(myDF3['Probabilities'].idxmax(),axis=1)\n",
    "    except KeyError:\n",
    "        break\n",
    "        \n",
    "print('The lowest MAE accomplished is {}, with {} parameters'.format(sorted(feature_selections, key=lambda x: x[2])[0][2], sorted(feature_selections, key=lambda x: x[2])[0][0]))"
   ]
  },
  {
   "cell_type": "code",
   "execution_count": 30,
   "metadata": {},
   "outputs": [
    {
     "data": {
      "text/plain": [
       "14943.918501836686"
      ]
     },
     "execution_count": 30,
     "metadata": {},
     "output_type": "execute_result"
    }
   ],
   "source": [
    "reg = LinearRegression()\n",
    "X2 = X[feature_selections[6][1]]\n",
    "y_pred = cross_val_predict(reg, X2, y, cv=5)\n",
    "mean_absolute_error(np.exp(y_pred), np.exp(y))"
   ]
  },
  {
   "cell_type": "markdown",
   "metadata": {},
   "source": [
    "### Regularizations\n",
    "\n",
    "Both Lasso and Ridge regressions are types of embedded feature selection methods. What this means is that the feature selection is part of the Machine Learning Algorithms.\n",
    "\n",
    "Laso and Ridge regressions both regularization techniques that add a penalty term to the stadard Linear Regression to penalize large coefficients and to shrink (in Ridge Regression) and remove (Lasso Regression) variables that do not contribute to the model, hence the Feature Selection part of the Alforithms.\n",
    "\n",
    "First, let's find the hyperparameters for the two regularized regression models. Others have said that normalizing / standardizing the data would work better for these models, so I'm going to be testing both the standardized and non-standardized version of the X values."
   ]
  },
  {
   "cell_type": "code",
   "execution_count": 31,
   "metadata": {},
   "outputs": [],
   "source": [
    "#Standarized X values\n",
    "X_std = StandardScaler().fit_transform(X,y)\n",
    "X_train_std, X_test_std, y_train_std, y_test_std = train_test_split(X_std, y, test_size = 0.3)\n",
    "\n",
    "#Original X values\n",
    "X_train_orig, X_test_orig, y_train_orig, y_test_orig = train_test_split(X, y, test_size = 0.3)"
   ]
  },
  {
   "cell_type": "markdown",
   "metadata": {},
   "source": [
    "#### Ridge Regression\n",
    "\n",
    "First let's try the non-standardized version. I wrote a function to automate the hyperparameter tuning for the alpha to prevent having to manually adjust the range myself."
   ]
  },
  {
   "cell_type": "code",
   "execution_count": 32,
   "metadata": {},
   "outputs": [],
   "source": [
    "#Definind the Find Alpha Function\n",
    "\n",
    "def alpha_find(model, is_std, min_value = 0.001,\n",
    "        max_value = 0.01,\n",
    "        max_round = 2,\n",
    "        step = 0.001):\n",
    "    #Keep expanding the range until told to stop.\n",
    "    param_candidates = []\n",
    "    while 1 == 1:\n",
    "        alpha = np.arange(min_value, max_value, step)\n",
    "        param_grid = {'alpha': alpha}\n",
    "\n",
    "        model_cv = GridSearchCV(model,param_grid,cv=5)\n",
    "        \n",
    "        #If is_std = True, use the standardized dataset. Else use the original\n",
    "        if is_std == True:\n",
    "            X_train, y_train = X_train_std, y_train_std\n",
    "        else:\n",
    "            X_train, y_train = X_train_orig, y_train_orig\n",
    "        model_cv.fit(X_train,y_train)\n",
    "\n",
    "        best_alpha = model_cv.best_params_['alpha']\n",
    "        \n",
    "        #In case of borderline values, if best_alpha's been seen before then use that.\n",
    "        if best_alpha in param_candidates:\n",
    "            break\n",
    "        else:\n",
    "            param_candidates.append(best_alpha)\n",
    "        \n",
    "        #If best_param = max value, then expand range. If min value, reduce range. Else break.\n",
    "        if (round(best_alpha, max_round) == max_value):\n",
    "            min_value, max_value, step, max_round = min_value*10, max_value*10, step*10, max_round-1\n",
    "        elif ((best_alpha) == min_value):\n",
    "            min_value, max_value, step, max_round = min_value/10, max_value/10, step/10, max_round+1\n",
    "        else:\n",
    "            break\n",
    "    print('Best Alpha for Model (Standarized = {}): '.format(is_std),model_cv.best_params_)    "
   ]
  },
  {
   "cell_type": "code",
   "execution_count": 33,
   "metadata": {},
   "outputs": [
    {
     "name": "stdout",
     "output_type": "stream",
     "text": [
      "Best Alpha for Model (Standarized = True):  {'alpha': 200.0}\n",
      "Best Alpha for Model (Standarized = False):  {'alpha': 20.0}\n"
     ]
    }
   ],
   "source": [
    "#Define Ridge Model\n",
    "rig = Ridge()\n",
    "\n",
    "#Standarized\n",
    "alpha_find(rig,True)\n",
    "\n",
    "#Non-Standardized\n",
    "alpha_find(rig,False)"
   ]
  },
  {
   "cell_type": "markdown",
   "metadata": {},
   "source": [
    "With our hyperparameters, let's try fitting the model with the data and see what we get."
   ]
  },
  {
   "cell_type": "code",
   "execution_count": 34,
   "metadata": {},
   "outputs": [
    {
     "name": "stdout",
     "output_type": "stream",
     "text": [
      "Standardized Dataset:  14003.44604788576\n"
     ]
    }
   ],
   "source": [
    "#Standardized\n",
    "rig = Ridge(alpha=200)\n",
    "y_pred = cross_val_predict(rig, X_std, y, cv=5)\n",
    "print('Standardized Dataset: ', mean_absolute_error(np.exp(y_pred), np.exp(y)))"
   ]
  },
  {
   "cell_type": "code",
   "execution_count": 35,
   "metadata": {},
   "outputs": [
    {
     "name": "stdout",
     "output_type": "stream",
     "text": [
      "Original Dataset:  13799.818631515116\n"
     ]
    }
   ],
   "source": [
    "#Non-Standardized\n",
    "rig = Ridge(alpha=20)\n",
    "y_pred = cross_val_predict(rig, X, y, cv=5)\n",
    "print('Original Dataset: ', mean_absolute_error(np.exp(y_pred), np.exp(y)))"
   ]
  },
  {
   "cell_type": "markdown",
   "metadata": {},
   "source": [
    "Non-standardized was a little better, but both were lower than our previous lowest MAE (14914.91). Now let's try Lasso.\n",
    "\n",
    "#### Lasso\n",
    "\n",
    "Similar to Ridge, let's first find the appropriate hyperparameters for Lasso."
   ]
  },
  {
   "cell_type": "code",
   "execution_count": 36,
   "metadata": {},
   "outputs": [
    {
     "name": "stdout",
     "output_type": "stream",
     "text": [
      "Best Alpha for Model (Standarized = True):  {'alpha': 0.003}\n",
      "Best Alpha for Model (Standarized = False):  {'alpha': 0.0005}\n"
     ]
    }
   ],
   "source": [
    "lasso = Lasso()\n",
    "\n",
    "alpha_find(lasso, is_std=True)\n",
    "alpha_find(lasso, is_std=False)"
   ]
  },
  {
   "cell_type": "markdown",
   "metadata": {},
   "source": [
    "Now the we have the hyperparameters, let's run the model and see what we get."
   ]
  },
  {
   "cell_type": "code",
   "execution_count": 37,
   "metadata": {},
   "outputs": [
    {
     "name": "stdout",
     "output_type": "stream",
     "text": [
      "Standardized Dataset:  13457.356403734755\n"
     ]
    }
   ],
   "source": [
    "#Standardized\n",
    "las = Lasso(alpha=0.003)\n",
    "y_pred = cross_val_predict(las, X_std, y, cv=5)\n",
    "print('Standardized Dataset: ', mean_absolute_error(np.exp(y_pred), np.exp(y)))"
   ]
  },
  {
   "cell_type": "code",
   "execution_count": 38,
   "metadata": {},
   "outputs": [
    {
     "name": "stdout",
     "output_type": "stream",
     "text": [
      "Non-Standardized Dataset:  13720.133069168822\n"
     ]
    }
   ],
   "source": [
    "#Original\n",
    "las = Lasso(alpha=0.0005)\n",
    "y_pred = cross_val_predict(las, X, y, cv=5)\n",
    "print('Non-Standardized Dataset: ', mean_absolute_error(np.exp(y_pred), np.exp(y)))"
   ]
  },
  {
   "cell_type": "markdown",
   "metadata": {},
   "source": [
    "The results were better than 14915.91 and were also better than Ridge. Looks like the standardized dataset yielded a bit of a better result for Lasso compared to Ridge. \n",
    "\n",
    "Lasso is known to double as a feature selector, since it reduces the coefficients of insignificant variables to 0. Let's take a look at what variables were deemed important."
   ]
  },
  {
   "cell_type": "code",
   "execution_count": 39,
   "metadata": {},
   "outputs": [
    {
     "data": {
      "text/plain": [
       "110"
      ]
     },
     "execution_count": 39,
     "metadata": {},
     "output_type": "execute_result"
    }
   ],
   "source": [
    "#Let's also look at what variables Lasso deemed most important.\n",
    "lasso_coef = las.fit(X,y).coef_\n",
    "len([coef for coef in lasso_coef if coef != 0])"
   ]
  },
  {
   "cell_type": "code",
   "execution_count": 40,
   "metadata": {},
   "outputs": [
    {
     "data": {
      "text/html": [
       "<div>\n",
       "<style scoped>\n",
       "    .dataframe tbody tr th:only-of-type {\n",
       "        vertical-align: middle;\n",
       "    }\n",
       "\n",
       "    .dataframe tbody tr th {\n",
       "        vertical-align: top;\n",
       "    }\n",
       "\n",
       "    .dataframe thead th {\n",
       "        text-align: right;\n",
       "    }\n",
       "</style>\n",
       "<table border=\"1\" class=\"dataframe\">\n",
       "  <thead>\n",
       "    <tr style=\"text-align: right;\">\n",
       "      <th></th>\n",
       "      <th>Variable</th>\n",
       "      <th>Coefficent</th>\n",
       "    </tr>\n",
       "  </thead>\n",
       "  <tbody>\n",
       "    <tr>\n",
       "      <th>76</th>\n",
       "      <td>MSZoning_C (all)</td>\n",
       "      <td>-0.292554</td>\n",
       "    </tr>\n",
       "    <tr>\n",
       "      <th>80</th>\n",
       "      <td>MSZoning_RM</td>\n",
       "      <td>-0.057967</td>\n",
       "    </tr>\n",
       "    <tr>\n",
       "      <th>107</th>\n",
       "      <td>Neighborhood_MeadowV</td>\n",
       "      <td>-0.046208</td>\n",
       "    </tr>\n",
       "    <tr>\n",
       "      <th>213</th>\n",
       "      <td>SaleCondition_Abnorml</td>\n",
       "      <td>-0.044152</td>\n",
       "    </tr>\n",
       "    <tr>\n",
       "      <th>42</th>\n",
       "      <td>Functional</td>\n",
       "      <td>-0.034087</td>\n",
       "    </tr>\n",
       "    <tr>\n",
       "      <th>...</th>\n",
       "      <td>...</td>\n",
       "      <td>...</td>\n",
       "    </tr>\n",
       "    <tr>\n",
       "      <th>210</th>\n",
       "      <td>SaleType_New</td>\n",
       "      <td>0.048173</td>\n",
       "    </tr>\n",
       "    <tr>\n",
       "      <th>14</th>\n",
       "      <td>OverallQual</td>\n",
       "      <td>0.050550</td>\n",
       "    </tr>\n",
       "    <tr>\n",
       "      <th>229</th>\n",
       "      <td>ExMaterial_BrkFace+Wd Sdng</td>\n",
       "      <td>0.053608</td>\n",
       "    </tr>\n",
       "    <tr>\n",
       "      <th>119</th>\n",
       "      <td>Neighborhood_StoneBr</td>\n",
       "      <td>0.058866</td>\n",
       "    </tr>\n",
       "    <tr>\n",
       "      <th>103</th>\n",
       "      <td>Neighborhood_Crawfor</td>\n",
       "      <td>0.105991</td>\n",
       "    </tr>\n",
       "  </tbody>\n",
       "</table>\n",
       "<p>110 rows × 2 columns</p>\n",
       "</div>"
      ],
      "text/plain": [
       "                       Variable  Coefficent\n",
       "76             MSZoning_C (all)   -0.292554\n",
       "80                  MSZoning_RM   -0.057967\n",
       "107        Neighborhood_MeadowV   -0.046208\n",
       "213       SaleCondition_Abnorml   -0.044152\n",
       "42                   Functional   -0.034087\n",
       "..                          ...         ...\n",
       "210                SaleType_New    0.048173\n",
       "14                  OverallQual    0.050550\n",
       "229  ExMaterial_BrkFace+Wd Sdng    0.053608\n",
       "119        Neighborhood_StoneBr    0.058866\n",
       "103        Neighborhood_Crawfor    0.105991\n",
       "\n",
       "[110 rows x 2 columns]"
      ]
     },
     "execution_count": 40,
     "metadata": {},
     "output_type": "execute_result"
    }
   ],
   "source": [
    "var_coef = pd.DataFrame({'Variable':X.columns,'Coefficent':lasso_coef})\n",
    "var_coef = var_coef[var_coef['Coefficent']!=0].sort_values('Coefficent')\n",
    "var_coef"
   ]
  }
 ],
 "metadata": {
  "kernelspec": {
   "display_name": "Python 3 (ipykernel)",
   "language": "python",
   "name": "python3"
  },
  "language_info": {
   "codemirror_mode": {
    "name": "ipython",
    "version": 3
   },
   "file_extension": ".py",
   "mimetype": "text/x-python",
   "name": "python",
   "nbconvert_exporter": "python",
   "pygments_lexer": "ipython3",
   "version": "3.8.16"
  }
 },
 "nbformat": 4,
 "nbformat_minor": 2
}
